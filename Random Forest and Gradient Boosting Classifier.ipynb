{
 "cells": [
  {
   "cell_type": "code",
   "execution_count": 11,
   "metadata": {
    "collapsed": false
   },
   "outputs": [
    {
     "name": "stdout",
     "output_type": "stream",
     "text": [
      "Populating the interactive namespace from numpy and matplotlib\n"
     ]
    },
    {
     "name": "stderr",
     "output_type": "stream",
     "text": [
      "WARNING: pylab import has clobbered these variables: ['test']\n",
      "`%matplotlib` prevents importing * from pylab and numpy\n"
     ]
    }
   ],
   "source": [
    "import numpy as np\n",
    "import pandas as pd\n",
    "from sklearn import cross_validation, datasets, svm\n",
    "from sklearn import cross_validation, tree, metrics\n",
    "from sklearn.ensemble import RandomForestClassifier, AdaBoostClassifier, ExtraTreesClassifier\n",
    "from sklearn.metrics import accuracy_score\n",
    "from sklearn.linear_model import LogisticRegression\n",
    "from sklearn.ensemble.weight_boosting import AdaBoostClassifier\n",
    "from sklearn.externals.six.moves import xrange\n",
    "from sklearn.tree import DecisionTreeClassifier\n",
    "from sklearn.metrics import confusion_matrix\n",
    "import seaborn as sns\n",
    "from sklearn.grid_search import GridSearchCV\n",
    "%pylab inline"
   ]
  },
  {
   "cell_type": "code",
   "execution_count": 12,
   "metadata": {
    "collapsed": true
   },
   "outputs": [],
   "source": [
    "dataset = pd.read_csv('proc_data.csv')\n",
    "dataset['id'] = dataset['id'].astype(int)"
   ]
  },
  {
   "cell_type": "code",
   "execution_count": 13,
   "metadata": {
    "collapsed": true
   },
   "outputs": [],
   "source": [
    "train = dataset.query('type == \"train\"')         \n",
    "test = dataset.query('type == \"test\"')  "
   ]
  },
  {
   "cell_type": "code",
   "execution_count": 14,
   "metadata": {
    "collapsed": false
   },
   "outputs": [
    {
     "data": {
      "text/plain": [
       "age              891\n",
       "cabin            204\n",
       "class            891\n",
       "embarked         889\n",
       "fare             891\n",
       "id               891\n",
       "name             891\n",
       "parch            891\n",
       "sex              891\n",
       "sibsp            891\n",
       "survived         891\n",
       "ticket           891\n",
       "type             891\n",
       "surname          891\n",
       "title            891\n",
       "embarked_at_C    891\n",
       "embarked_at_Q    891\n",
       "embarked_at_S    891\n",
       "female           891\n",
       "male             891\n",
       "class_1.0        891\n",
       "class_2.0        891\n",
       "class_3.0        891\n",
       "in_cabin         891\n",
       "family_size      891\n",
       "family_id        891\n",
       "family_id_int    891\n",
       "Master           891\n",
       "Miss             891\n",
       "Mr               891\n",
       "Mrs              891\n",
       "Rev              891\n",
       "farebin          891\n",
       "dtype: int64"
      ]
     },
     "execution_count": 14,
     "metadata": {},
     "output_type": "execute_result"
    }
   ],
   "source": [
    "train.count()"
   ]
  },
  {
   "cell_type": "code",
   "execution_count": 15,
   "metadata": {
    "collapsed": true
   },
   "outputs": [],
   "source": [
    "features = ['age', 'class', 'fare', 'family_size', 'embarked_at_C', 'embarked_at_Q', 'embarked_at_S', 'female', 'class_1.0', 'class_2.0', 'class_3.0', 'in_cabin', 'Master', 'Miss', 'Mrs']"
   ]
  },
  {
   "cell_type": "code",
   "execution_count": 16,
   "metadata": {
    "collapsed": true
   },
   "outputs": [],
   "source": [
    "X = train[features].values\n",
    "y = train['survived'].values"
   ]
  },
  {
   "cell_type": "code",
   "execution_count": 17,
   "metadata": {
    "collapsed": true
   },
   "outputs": [],
   "source": [
    "X_test = test[features].values\n",
    "test_ids = test['id']\n",
    "test_ids = pd.DataFrame(test_ids.reset_index()['id'])"
   ]
  },
  {
   "cell_type": "code",
   "execution_count": 31,
   "metadata": {
    "collapsed": false
   },
   "outputs": [
    {
     "name": "stdout",
     "output_type": "stream",
     "text": [
      "0.849607182941\n",
      "0.824915824916\n"
     ]
    }
   ],
   "source": [
    "rnd = RandomForestClassifier(n_estimators = 1000, max_depth = 5, min_samples_split = 2, min_samples_leaf=3, oob_score=True, random_state = 100)\n",
    "rnd.fit(X, y)\n",
    "y_predicted = rnd.predict(X)\n",
    "print accuracy_score(y, y_predicted)\n",
    "print rnd.oob_score_"
   ]
  },
  {
   "cell_type": "code",
   "execution_count": 28,
   "metadata": {
    "collapsed": true
   },
   "outputs": [],
   "source": [
    "y_test_predicted = rnd.predict(X_test)\n",
    "predictions = pd.DataFrame(y_test_predicted)\n",
    "submission = pd.concat([test_ids, predictions], axis=1)\n",
    "submission.columns = ['PassengerId', 'Survived']\n",
    "submission['Survived'] = submission['Survived'].astype(int)\n",
    "submission.to_csv('rf md 1000.csv', sep = ',', index = False)"
   ]
  },
  {
   "cell_type": "code",
   "execution_count": 21,
   "metadata": {
    "collapsed": false
   },
   "outputs": [
    {
     "name": "stdout",
     "output_type": "stream",
     "text": [
      "CPU times: user 8.86 s, sys: 1.57 s, total: 10.4 s\n",
      "Wall time: 10min 40s\n"
     ]
    }
   ],
   "source": [
    "%%time\n",
    "rf = RandomForestClassifier(oob_score = True)\n",
    "params = {\n",
    "    'max_depth': [2, 3, 4, 5, 6, 7, 8, 9, 10, 15],\n",
    "    'min_samples_leaf': [1, 2, 3, 4, 5],\n",
    "    'min_samples_split': [1, 2, 3, 4, 5],\n",
    "    'random_state': [3, 4, 5, 6, 7],\n",
    "    'n_estimators':[1000]\n",
    "}\n",
    "gs = GridSearchCV(rf, params, scoring='accuracy', n_jobs=-1)\n",
    "gs.fit(X, y)"
   ]
  },
  {
   "cell_type": "code",
   "execution_count": 23,
   "metadata": {
    "collapsed": false
   },
   "outputs": [
    {
     "data": {
      "text/plain": [
       "GridSearchCV(cv=None, error_score='raise',\n",
       "       estimator=RandomForestClassifier(bootstrap=True, class_weight=None, criterion='gini',\n",
       "            max_depth=None, max_features='auto', max_leaf_nodes=None,\n",
       "            min_samples_leaf=1, min_samples_split=2,\n",
       "            min_weight_fraction_leaf=0.0, n_estimators=10, n_jobs=1,\n",
       "            oob_score=True, random_state=None, verbose=0, warm_start=False),\n",
       "       fit_params={}, iid=True, loss_func=None, n_jobs=-1,\n",
       "       param_grid={'min_samples_split': [1, 2, 3, 4, 5], 'n_estimators': [1000], 'random_state': [3, 4, 5, 6, 7], 'max_depth': [2, 3, 4, 5, 6, 7, 8, 9, 10, 15], 'min_samples_leaf': [1, 2, 3, 4, 5]},\n",
       "       pre_dispatch='2*n_jobs', refit=True, score_func=None,\n",
       "       scoring='accuracy', verbose=0)"
      ]
     },
     "execution_count": 23,
     "metadata": {},
     "output_type": "execute_result"
    }
   ],
   "source": [
    "#sorted(gs.grid_scores_, key=lambda x: x.mean_validation_score, reverse=True)\n",
    "gs"
   ]
  },
  {
   "cell_type": "markdown",
   "metadata": {},
   "source": [
    "**Gradient Boosting Classifier**"
   ]
  },
  {
   "cell_type": "code",
   "execution_count": 32,
   "metadata": {
    "collapsed": false
   },
   "outputs": [
    {
     "name": "stdout",
     "output_type": "stream",
     "text": [
      "Gradient Boosted Trees CV scores:\n",
      "min: 0.793, mean: 0.825, max: 0.859\n"
     ]
    }
   ],
   "source": [
    "from sklearn.ensemble import GradientBoostingClassifier\n",
    "\n",
    "gb = GradientBoostingClassifier(learning_rate=0.1, max_features=0.5, n_estimators=1000, max_depth=3, subsample=0.5)\n",
    "\n",
    "scores = cross_validation.cross_val_score(gb, X, y, cv=5, n_jobs=4, scoring='accuracy')\n",
    "print(\"Gradient Boosted Trees CV scores:\")\n",
    "print(\"min: {:.3f}, mean: {:.3f}, max: {:.3f}\".format(scores.min(), scores.mean(), scores.max()))"
   ]
  },
  {
   "cell_type": "markdown",
   "metadata": {},
   "source": [
    "**Grid Search to find optimal parameters**"
   ]
  },
  {
   "cell_type": "code",
   "execution_count": 33,
   "metadata": {
    "collapsed": false
   },
   "outputs": [
    {
     "name": "stdout",
     "output_type": "stream",
     "text": [
      "CPU times: user 4.67 s, sys: 921 ms, total: 5.59 s\n",
      "Wall time: 3min 54s\n"
     ]
    }
   ],
   "source": [
    "%%time\n",
    "gb = GradientBoostingClassifier()\n",
    "params = {\n",
    "    'learning_rate': [0.05, 0.1, 0.5, 0.8, 1],\n",
    "    'max_features': [0.5, 1],\n",
    "    'max_depth': [3, 4, 5, 6, 7, 8],\n",
    "    'subsample':[0.2, 0.5, 0.8, 1],\n",
    "    'n_estimators':[100, 500]\n",
    "}\n",
    "gs = GridSearchCV(gb, params, cv=5, scoring='accuracy', n_jobs=4)\n",
    "gs.fit(X, y)"
   ]
  },
  {
   "cell_type": "code",
   "execution_count": 35,
   "metadata": {
    "collapsed": false,
    "scrolled": true
   },
   "outputs": [
    {
     "data": {
      "text/plain": [
       "[mean: 0.83838, std: 0.02130, params: {'max_features': 0.5, 'n_estimators': 500, 'learning_rate': 0.05, 'max_depth': 3, 'subsample': 0.8},\n",
       " mean: 0.83838, std: 0.02162, params: {'max_features': 1, 'n_estimators': 100, 'learning_rate': 0.1, 'max_depth': 4, 'subsample': 0.5},\n",
       " mean: 0.83726, std: 0.02931, params: {'max_features': 1, 'n_estimators': 100, 'learning_rate': 0.05, 'max_depth': 3, 'subsample': 0.8},\n",
       " mean: 0.83726, std: 0.02393, params: {'max_features': 1, 'n_estimators': 500, 'learning_rate': 0.05, 'max_depth': 3, 'subsample': 0.5},\n",
       " mean: 0.83726, std: 0.02996, params: {'max_features': 0.5, 'n_estimators': 100, 'learning_rate': 0.05, 'max_depth': 5, 'subsample': 0.2},\n",
       " mean: 0.83726, std: 0.02535, params: {'max_features': 0.5, 'n_estimators': 100, 'learning_rate': 0.05, 'max_depth': 5, 'subsample': 0.8},\n",
       " mean: 0.83614, std: 0.01839, params: {'max_features': 0.5, 'n_estimators': 500, 'learning_rate': 0.05, 'max_depth': 3, 'subsample': 1},\n",
       " mean: 0.83614, std: 0.01759, params: {'max_features': 0.5, 'n_estimators': 500, 'learning_rate': 0.1, 'max_depth': 3, 'subsample': 1},\n",
       " mean: 0.83614, std: 0.01652, params: {'max_features': 0.5, 'n_estimators': 100, 'learning_rate': 0.1, 'max_depth': 4, 'subsample': 0.5},\n",
       " mean: 0.83502, std: 0.03199, params: {'max_features': 1, 'n_estimators': 100, 'learning_rate': 0.05, 'max_depth': 4, 'subsample': 0.2},\n",
       " mean: 0.83502, std: 0.01779, params: {'max_features': 0.5, 'n_estimators': 100, 'learning_rate': 0.1, 'max_depth': 3, 'subsample': 0.5},\n",
       " mean: 0.83502, std: 0.02408, params: {'max_features': 0.5, 'n_estimators': 100, 'learning_rate': 0.1, 'max_depth': 4, 'subsample': 0.8},\n",
       " mean: 0.83502, std: 0.02016, params: {'max_features': 0.5, 'n_estimators': 100, 'learning_rate': 0.1, 'max_depth': 5, 'subsample': 1},\n",
       " mean: 0.83389, std: 0.02667, params: {'max_features': 1, 'n_estimators': 500, 'learning_rate': 0.05, 'max_depth': 3, 'subsample': 0.2},\n",
       " mean: 0.83389, std: 0.01688, params: {'max_features': 0.5, 'n_estimators': 100, 'learning_rate': 0.05, 'max_depth': 6, 'subsample': 0.5},\n",
       " mean: 0.83389, std: 0.02630, params: {'max_features': 0.5, 'n_estimators': 500, 'learning_rate': 0.05, 'max_depth': 7, 'subsample': 0.2},\n",
       " mean: 0.83389, std: 0.01469, params: {'max_features': 0.5, 'n_estimators': 100, 'learning_rate': 0.1, 'max_depth': 4, 'subsample': 1},\n",
       " mean: 0.83389, std: 0.03121, params: {'max_features': 1, 'n_estimators': 100, 'learning_rate': 0.5, 'max_depth': 3, 'subsample': 0.8},\n",
       " mean: 0.83277, std: 0.01751, params: {'max_features': 0.5, 'n_estimators': 500, 'learning_rate': 0.05, 'max_depth': 3, 'subsample': 0.5},\n",
       " mean: 0.83277, std: 0.03166, params: {'max_features': 1, 'n_estimators': 100, 'learning_rate': 0.05, 'max_depth': 3, 'subsample': 0.5},\n",
       " mean: 0.83277, std: 0.02284, params: {'max_features': 0.5, 'n_estimators': 100, 'learning_rate': 0.05, 'max_depth': 7, 'subsample': 1},\n",
       " mean: 0.83277, std: 0.01429, params: {'max_features': 0.5, 'n_estimators': 500, 'learning_rate': 0.1, 'max_depth': 3, 'subsample': 0.8},\n",
       " mean: 0.83277, std: 0.02708, params: {'max_features': 1, 'n_estimators': 100, 'learning_rate': 0.1, 'max_depth': 3, 'subsample': 0.2},\n",
       " mean: 0.83165, std: 0.01636, params: {'max_features': 0.5, 'n_estimators': 100, 'learning_rate': 0.05, 'max_depth': 4, 'subsample': 1},\n",
       " mean: 0.83165, std: 0.02158, params: {'max_features': 1, 'n_estimators': 500, 'learning_rate': 0.05, 'max_depth': 4, 'subsample': 0.5},\n",
       " mean: 0.83165, std: 0.02690, params: {'max_features': 0.5, 'n_estimators': 100, 'learning_rate': 0.05, 'max_depth': 6, 'subsample': 0.2},\n",
       " mean: 0.83165, std: 0.03771, params: {'max_features': 1, 'n_estimators': 100, 'learning_rate': 0.1, 'max_depth': 3, 'subsample': 0.5},\n",
       " mean: 0.83165, std: 0.02886, params: {'max_features': 1, 'n_estimators': 100, 'learning_rate': 0.1, 'max_depth': 3, 'subsample': 0.8},\n",
       " mean: 0.83165, std: 0.01909, params: {'max_features': 0.5, 'n_estimators': 100, 'learning_rate': 0.1, 'max_depth': 6, 'subsample': 1},\n",
       " mean: 0.83053, std: 0.01526, params: {'max_features': 0.5, 'n_estimators': 500, 'learning_rate': 0.05, 'max_depth': 3, 'subsample': 0.2},\n",
       " mean: 0.83053, std: 0.01807, params: {'max_features': 0.5, 'n_estimators': 500, 'learning_rate': 0.05, 'max_depth': 4, 'subsample': 1},\n",
       " mean: 0.82941, std: 0.02042, params: {'max_features': 0.5, 'n_estimators': 500, 'learning_rate': 0.05, 'max_depth': 4, 'subsample': 0.5},\n",
       " mean: 0.82941, std: 0.02187, params: {'max_features': 1, 'n_estimators': 500, 'learning_rate': 0.05, 'max_depth': 4, 'subsample': 0.8},\n",
       " mean: 0.82941, std: 0.02461, params: {'max_features': 1, 'n_estimators': 100, 'learning_rate': 0.05, 'max_depth': 7, 'subsample': 0.2},\n",
       " mean: 0.82941, std: 0.02491, params: {'max_features': 0.5, 'n_estimators': 500, 'learning_rate': 0.1, 'max_depth': 3, 'subsample': 0.5},\n",
       " mean: 0.82941, std: 0.01941, params: {'max_features': 1, 'n_estimators': 100, 'learning_rate': 0.1, 'max_depth': 3, 'subsample': 1},\n",
       " mean: 0.82941, std: 0.01930, params: {'max_features': 0.5, 'n_estimators': 100, 'learning_rate': 0.1, 'max_depth': 5, 'subsample': 0.8},\n",
       " mean: 0.82941, std: 0.02965, params: {'max_features': 1, 'n_estimators': 100, 'learning_rate': 0.1, 'max_depth': 5, 'subsample': 1},\n",
       " mean: 0.82941, std: 0.02075, params: {'max_features': 0.5, 'n_estimators': 100, 'learning_rate': 0.1, 'max_depth': 8, 'subsample': 0.2},\n",
       " mean: 0.82828, std: 0.03313, params: {'max_features': 1, 'n_estimators': 100, 'learning_rate': 0.05, 'max_depth': 3, 'subsample': 1},\n",
       " mean: 0.82828, std: 0.02321, params: {'max_features': 1, 'n_estimators': 500, 'learning_rate': 0.05, 'max_depth': 3, 'subsample': 0.8},\n",
       " mean: 0.82828, std: 0.03029, params: {'max_features': 1, 'n_estimators': 100, 'learning_rate': 0.05, 'max_depth': 4, 'subsample': 0.5},\n",
       " mean: 0.82828, std: 0.02672, params: {'max_features': 1, 'n_estimators': 100, 'learning_rate': 0.05, 'max_depth': 4, 'subsample': 1},\n",
       " mean: 0.82828, std: 0.02060, params: {'max_features': 0.5, 'n_estimators': 100, 'learning_rate': 0.05, 'max_depth': 7, 'subsample': 0.5},\n",
       " mean: 0.82828, std: 0.02158, params: {'max_features': 0.5, 'n_estimators': 100, 'learning_rate': 0.05, 'max_depth': 8, 'subsample': 0.2},\n",
       " mean: 0.82828, std: 0.01137, params: {'max_features': 0.5, 'n_estimators': 100, 'learning_rate': 0.1, 'max_depth': 3, 'subsample': 0.8},\n",
       " mean: 0.82828, std: 0.01412, params: {'max_features': 1, 'n_estimators': 500, 'learning_rate': 0.1, 'max_depth': 3, 'subsample': 0.2},\n",
       " mean: 0.82828, std: 0.02460, params: {'max_features': 1, 'n_estimators': 500, 'learning_rate': 0.1, 'max_depth': 3, 'subsample': 0.5},\n",
       " mean: 0.82828, std: 0.02378, params: {'max_features': 1, 'n_estimators': 100, 'learning_rate': 0.1, 'max_depth': 4, 'subsample': 0.8},\n",
       " mean: 0.82828, std: 0.02623, params: {'max_features': 0.5, 'n_estimators': 500, 'learning_rate': 0.1, 'max_depth': 5, 'subsample': 0.2},\n",
       " mean: 0.82716, std: 0.03086, params: {'max_features': 0.5, 'n_estimators': 100, 'learning_rate': 0.05, 'max_depth': 5, 'subsample': 0.5},\n",
       " mean: 0.82716, std: 0.01835, params: {'max_features': 0.5, 'n_estimators': 100, 'learning_rate': 0.05, 'max_depth': 5, 'subsample': 1},\n",
       " mean: 0.82716, std: 0.02711, params: {'max_features': 1, 'n_estimators': 100, 'learning_rate': 0.05, 'max_depth': 6, 'subsample': 0.8},\n",
       " mean: 0.82716, std: 0.01520, params: {'max_features': 0.5, 'n_estimators': 500, 'learning_rate': 0.1, 'max_depth': 3, 'subsample': 0.2},\n",
       " mean: 0.82716, std: 0.02499, params: {'max_features': 1, 'n_estimators': 100, 'learning_rate': 0.1, 'max_depth': 4, 'subsample': 0.2},\n",
       " mean: 0.82716, std: 0.02572, params: {'max_features': 0.5, 'n_estimators': 100, 'learning_rate': 0.1, 'max_depth': 6, 'subsample': 0.2},\n",
       " mean: 0.82716, std: 0.03478, params: {'max_features': 1, 'n_estimators': 100, 'learning_rate': 0.1, 'max_depth': 6, 'subsample': 0.5},\n",
       " mean: 0.82716, std: 0.01107, params: {'max_features': 0.5, 'n_estimators': 100, 'learning_rate': 0.8, 'max_depth': 3, 'subsample': 1},\n",
       " mean: 0.82604, std: 0.01605, params: {'max_features': 0.5, 'n_estimators': 100, 'learning_rate': 0.05, 'max_depth': 4, 'subsample': 0.5},\n",
       " mean: 0.82604, std: 0.01368, params: {'max_features': 1, 'n_estimators': 500, 'learning_rate': 0.05, 'max_depth': 4, 'subsample': 0.2},\n",
       " mean: 0.82604, std: 0.02756, params: {'max_features': 0.5, 'n_estimators': 100, 'learning_rate': 0.05, 'max_depth': 6, 'subsample': 1},\n",
       " mean: 0.82604, std: 0.03230, params: {'max_features': 0.5, 'n_estimators': 500, 'learning_rate': 0.05, 'max_depth': 6, 'subsample': 0.5},\n",
       " mean: 0.82604, std: 0.02252, params: {'max_features': 0.5, 'n_estimators': 100, 'learning_rate': 0.05, 'max_depth': 7, 'subsample': 0.8},\n",
       " mean: 0.82604, std: 0.03032, params: {'max_features': 1, 'n_estimators': 100, 'learning_rate': 0.05, 'max_depth': 8, 'subsample': 0.2},\n",
       " mean: 0.82604, std: 0.02112, params: {'max_features': 0.5, 'n_estimators': 100, 'learning_rate': 0.1, 'max_depth': 3, 'subsample': 1},\n",
       " mean: 0.82604, std: 0.02410, params: {'max_features': 1, 'n_estimators': 500, 'learning_rate': 0.1, 'max_depth': 4, 'subsample': 0.8},\n",
       " mean: 0.82604, std: 0.02632, params: {'max_features': 1, 'n_estimators': 100, 'learning_rate': 0.5, 'max_depth': 3, 'subsample': 1},\n",
       " mean: 0.82492, std: 0.01513, params: {'max_features': 0.5, 'n_estimators': 100, 'learning_rate': 0.05, 'max_depth': 3, 'subsample': 0.8},\n",
       " mean: 0.82492, std: 0.02288, params: {'max_features': 0.5, 'n_estimators': 100, 'learning_rate': 0.05, 'max_depth': 4, 'subsample': 0.8},\n",
       " mean: 0.82492, std: 0.01165, params: {'max_features': 1, 'n_estimators': 100, 'learning_rate': 0.05, 'max_depth': 5, 'subsample': 0.5},\n",
       " mean: 0.82492, std: 0.02453, params: {'max_features': 1, 'n_estimators': 100, 'learning_rate': 0.05, 'max_depth': 5, 'subsample': 1},\n",
       " mean: 0.82492, std: 0.02218, params: {'max_features': 0.5, 'n_estimators': 100, 'learning_rate': 0.05, 'max_depth': 7, 'subsample': 0.2},\n",
       " mean: 0.82492, std: 0.02184, params: {'max_features': 1, 'n_estimators': 500, 'learning_rate': 0.1, 'max_depth': 3, 'subsample': 1},\n",
       " mean: 0.82379, std: 0.02678, params: {'max_features': 1, 'n_estimators': 100, 'learning_rate': 0.05, 'max_depth': 3, 'subsample': 0.2},\n",
       " mean: 0.82379, std: 0.02212, params: {'max_features': 1, 'n_estimators': 500, 'learning_rate': 0.05, 'max_depth': 3, 'subsample': 1},\n",
       " mean: 0.82379, std: 0.03492, params: {'max_features': 1, 'n_estimators': 100, 'learning_rate': 0.05, 'max_depth': 4, 'subsample': 0.8},\n",
       " mean: 0.82379, std: 0.01328, params: {'max_features': 1, 'n_estimators': 100, 'learning_rate': 0.05, 'max_depth': 5, 'subsample': 0.2},\n",
       " mean: 0.82379, std: 0.03661, params: {'max_features': 1, 'n_estimators': 500, 'learning_rate': 0.05, 'max_depth': 5, 'subsample': 0.5},\n",
       " mean: 0.82379, std: 0.02163, params: {'max_features': 0.5, 'n_estimators': 100, 'learning_rate': 0.1, 'max_depth': 3, 'subsample': 0.2},\n",
       " mean: 0.82379, std: 0.02842, params: {'max_features': 0.5, 'n_estimators': 100, 'learning_rate': 0.1, 'max_depth': 5, 'subsample': 0.5},\n",
       " mean: 0.82379, std: 0.02806, params: {'max_features': 1, 'n_estimators': 100, 'learning_rate': 0.1, 'max_depth': 5, 'subsample': 0.8},\n",
       " mean: 0.82379, std: 0.02154, params: {'max_features': 0.5, 'n_estimators': 100, 'learning_rate': 0.1, 'max_depth': 6, 'subsample': 0.5},\n",
       " mean: 0.82379, std: 0.02314, params: {'max_features': 0.5, 'n_estimators': 100, 'learning_rate': 0.5, 'max_depth': 3, 'subsample': 1},\n",
       " mean: 0.82267, std: 0.02454, params: {'max_features': 0.5, 'n_estimators': 100, 'learning_rate': 0.05, 'max_depth': 3, 'subsample': 0.2},\n",
       " mean: 0.82267, std: 0.02991, params: {'max_features': 0.5, 'n_estimators': 100, 'learning_rate': 0.05, 'max_depth': 4, 'subsample': 0.2},\n",
       " mean: 0.82267, std: 0.02278, params: {'max_features': 0.5, 'n_estimators': 100, 'learning_rate': 0.05, 'max_depth': 6, 'subsample': 0.8},\n",
       " mean: 0.82267, std: 0.01667, params: {'max_features': 1, 'n_estimators': 100, 'learning_rate': 0.05, 'max_depth': 6, 'subsample': 0.2},\n",
       " mean: 0.82267, std: 0.02551, params: {'max_features': 1, 'n_estimators': 100, 'learning_rate': 0.05, 'max_depth': 6, 'subsample': 1},\n",
       " mean: 0.82267, std: 0.02987, params: {'max_features': 1, 'n_estimators': 100, 'learning_rate': 0.05, 'max_depth': 7, 'subsample': 0.5},\n",
       " mean: 0.82267, std: 0.02834, params: {'max_features': 0.5, 'n_estimators': 100, 'learning_rate': 0.05, 'max_depth': 8, 'subsample': 1},\n",
       " mean: 0.82267, std: 0.02152, params: {'max_features': 0.5, 'n_estimators': 500, 'learning_rate': 0.1, 'max_depth': 4, 'subsample': 0.8},\n",
       " mean: 0.82267, std: 0.02500, params: {'max_features': 1, 'n_estimators': 500, 'learning_rate': 0.1, 'max_depth': 4, 'subsample': 0.2},\n",
       " mean: 0.82267, std: 0.02888, params: {'max_features': 1, 'n_estimators': 500, 'learning_rate': 0.1, 'max_depth': 4, 'subsample': 0.5},\n",
       " mean: 0.82267, std: 0.02066, params: {'max_features': 0.5, 'n_estimators': 500, 'learning_rate': 0.1, 'max_depth': 8, 'subsample': 0.5},\n",
       " mean: 0.82155, std: 0.02433, params: {'max_features': 0.5, 'n_estimators': 100, 'learning_rate': 0.05, 'max_depth': 3, 'subsample': 0.5},\n",
       " mean: 0.82155, std: 0.01871, params: {'max_features': 0.5, 'n_estimators': 100, 'learning_rate': 0.05, 'max_depth': 3, 'subsample': 1},\n",
       " mean: 0.82155, std: 0.01990, params: {'max_features': 0.5, 'n_estimators': 500, 'learning_rate': 0.05, 'max_depth': 4, 'subsample': 0.2},\n",
       " mean: 0.82155, std: 0.02849, params: {'max_features': 1, 'n_estimators': 100, 'learning_rate': 0.05, 'max_depth': 5, 'subsample': 0.8},\n",
       " mean: 0.82155, std: 0.03165, params: {'max_features': 1, 'n_estimators': 500, 'learning_rate': 0.05, 'max_depth': 5, 'subsample': 0.2},\n",
       " mean: 0.82155, std: 0.01700, params: {'max_features': 1, 'n_estimators': 100, 'learning_rate': 0.05, 'max_depth': 7, 'subsample': 0.8},\n",
       " mean: 0.82155, std: 0.03050, params: {'max_features': 0.5, 'n_estimators': 100, 'learning_rate': 0.05, 'max_depth': 8, 'subsample': 0.8},\n",
       " mean: 0.82155, std: 0.02925, params: {'max_features': 0.5, 'n_estimators': 500, 'learning_rate': 0.05, 'max_depth': 8, 'subsample': 0.2},\n",
       " mean: 0.82155, std: 0.01739, params: {'max_features': 1, 'n_estimators': 500, 'learning_rate': 0.1, 'max_depth': 3, 'subsample': 0.8},\n",
       " mean: 0.82155, std: 0.02635, params: {'max_features': 1, 'n_estimators': 100, 'learning_rate': 0.1, 'max_depth': 4, 'subsample': 1},\n",
       " mean: 0.82155, std: 0.01739, params: {'max_features': 0.5, 'n_estimators': 500, 'learning_rate': 0.1, 'max_depth': 5, 'subsample': 1},\n",
       " mean: 0.82155, std: 0.02670, params: {'max_features': 0.5, 'n_estimators': 100, 'learning_rate': 0.1, 'max_depth': 8, 'subsample': 0.5},\n",
       " mean: 0.82155, std: 0.02025, params: {'max_features': 0.5, 'n_estimators': 100, 'learning_rate': 0.5, 'max_depth': 4, 'subsample': 1},\n",
       " mean: 0.82155, std: 0.03030, params: {'max_features': 1, 'n_estimators': 100, 'learning_rate': 1, 'max_depth': 3, 'subsample': 1},\n",
       " mean: 0.82155, std: 0.03021, params: {'max_features': 0.5, 'n_estimators': 100, 'learning_rate': 1, 'max_depth': 7, 'subsample': 1},\n",
       " mean: 0.82043, std: 0.01643, params: {'max_features': 0.5, 'n_estimators': 500, 'learning_rate': 0.05, 'max_depth': 5, 'subsample': 0.5},\n",
       " mean: 0.82043, std: 0.02962, params: {'max_features': 1, 'n_estimators': 500, 'learning_rate': 0.05, 'max_depth': 6, 'subsample': 0.2},\n",
       " mean: 0.82043, std: 0.01850, params: {'max_features': 0.5, 'n_estimators': 100, 'learning_rate': 0.05, 'max_depth': 8, 'subsample': 0.5},\n",
       " mean: 0.82043, std: 0.02838, params: {'max_features': 1, 'n_estimators': 100, 'learning_rate': 0.05, 'max_depth': 8, 'subsample': 0.5},\n",
       " mean: 0.82043, std: 0.03465, params: {'max_features': 1, 'n_estimators': 500, 'learning_rate': 0.1, 'max_depth': 5, 'subsample': 0.5},\n",
       " mean: 0.82043, std: 0.02562, params: {'max_features': 0.5, 'n_estimators': 100, 'learning_rate': 0.1, 'max_depth': 7, 'subsample': 0.2},\n",
       " mean: 0.82043, std: 0.02471, params: {'max_features': 0.5, 'n_estimators': 100, 'learning_rate': 0.5, 'max_depth': 5, 'subsample': 1},\n",
       " mean: 0.81930, std: 0.02175, params: {'max_features': 0.5, 'n_estimators': 500, 'learning_rate': 0.05, 'max_depth': 4, 'subsample': 0.8},\n",
       " mean: 0.81930, std: 0.02977, params: {'max_features': 1, 'n_estimators': 500, 'learning_rate': 0.05, 'max_depth': 5, 'subsample': 0.8},\n",
       " mean: 0.81930, std: 0.02549, params: {'max_features': 1, 'n_estimators': 100, 'learning_rate': 0.05, 'max_depth': 6, 'subsample': 0.5},\n",
       " mean: 0.81930, std: 0.02656, params: {'max_features': 1, 'n_estimators': 500, 'learning_rate': 0.05, 'max_depth': 6, 'subsample': 1},\n",
       " mean: 0.81930, std: 0.02908, params: {'max_features': 0.5, 'n_estimators': 500, 'learning_rate': 0.1, 'max_depth': 4, 'subsample': 0.5},\n",
       " mean: 0.81930, std: 0.02097, params: {'max_features': 0.5, 'n_estimators': 500, 'learning_rate': 0.1, 'max_depth': 4, 'subsample': 1},\n",
       " mean: 0.81930, std: 0.02174, params: {'max_features': 1, 'n_estimators': 100, 'learning_rate': 0.1, 'max_depth': 5, 'subsample': 0.5},\n",
       " mean: 0.81930, std: 0.02248, params: {'max_features': 0.5, 'n_estimators': 100, 'learning_rate': 0.1, 'max_depth': 6, 'subsample': 0.8},\n",
       " mean: 0.81930, std: 0.03517, params: {'max_features': 0.5, 'n_estimators': 500, 'learning_rate': 0.1, 'max_depth': 6, 'subsample': 0.2},\n",
       " mean: 0.81930, std: 0.03483, params: {'max_features': 1, 'n_estimators': 500, 'learning_rate': 0.1, 'max_depth': 7, 'subsample': 0.2},\n",
       " mean: 0.81818, std: 0.02346, params: {'max_features': 0.5, 'n_estimators': 500, 'learning_rate': 0.05, 'max_depth': 6, 'subsample': 0.2},\n",
       " mean: 0.81818, std: 0.02420, params: {'max_features': 1, 'n_estimators': 500, 'learning_rate': 0.05, 'max_depth': 6, 'subsample': 0.5},\n",
       " mean: 0.81818, std: 0.02737, params: {'max_features': 1, 'n_estimators': 100, 'learning_rate': 0.05, 'max_depth': 7, 'subsample': 1},\n",
       " mean: 0.81818, std: 0.02191, params: {'max_features': 1, 'n_estimators': 100, 'learning_rate': 0.1, 'max_depth': 5, 'subsample': 0.2},\n",
       " mean: 0.81818, std: 0.03277, params: {'max_features': 1, 'n_estimators': 100, 'learning_rate': 0.1, 'max_depth': 6, 'subsample': 0.8},\n",
       " mean: 0.81818, std: 0.03058, params: {'max_features': 0.5, 'n_estimators': 100, 'learning_rate': 0.1, 'max_depth': 7, 'subsample': 0.5},\n",
       " mean: 0.81818, std: 0.02034, params: {'max_features': 0.5, 'n_estimators': 100, 'learning_rate': 0.5, 'max_depth': 3, 'subsample': 0.8},\n",
       " mean: 0.81818, std: 0.02474, params: {'max_features': 0.5, 'n_estimators': 100, 'learning_rate': 0.5, 'max_depth': 6, 'subsample': 1},\n",
       " mean: 0.81818, std: 0.02559, params: {'max_features': 0.5, 'n_estimators': 100, 'learning_rate': 0.5, 'max_depth': 7, 'subsample': 1},\n",
       " mean: 0.81706, std: 0.01983, params: {'max_features': 1, 'n_estimators': 500, 'learning_rate': 0.05, 'max_depth': 4, 'subsample': 1},\n",
       " mean: 0.81706, std: 0.03712, params: {'max_features': 0.5, 'n_estimators': 500, 'learning_rate': 0.05, 'max_depth': 7, 'subsample': 0.5},\n",
       " mean: 0.81706, std: 0.02148, params: {'max_features': 0.5, 'n_estimators': 100, 'learning_rate': 0.1, 'max_depth': 4, 'subsample': 0.2},\n",
       " mean: 0.81706, std: 0.02314, params: {'max_features': 0.5, 'n_estimators': 500, 'learning_rate': 0.1, 'max_depth': 5, 'subsample': 0.5},\n",
       " mean: 0.81706, std: 0.02339, params: {'max_features': 0.5, 'n_estimators': 500, 'learning_rate': 0.1, 'max_depth': 8, 'subsample': 0.2},\n",
       " mean: 0.81706, std: 0.03097, params: {'max_features': 1, 'n_estimators': 100, 'learning_rate': 0.5, 'max_depth': 4, 'subsample': 1},\n",
       " mean: 0.81706, std: 0.02750, params: {'max_features': 0.5, 'n_estimators': 500, 'learning_rate': 0.5, 'max_depth': 8, 'subsample': 1},\n",
       " mean: 0.81706, std: 0.02589, params: {'max_features': 0.5, 'n_estimators': 100, 'learning_rate': 0.8, 'max_depth': 3, 'subsample': 0.8},\n",
       " mean: 0.81594, std: 0.02424, params: {'max_features': 0.5, 'n_estimators': 500, 'learning_rate': 0.05, 'max_depth': 5, 'subsample': 0.2},\n",
       " mean: 0.81594, std: 0.02368, params: {'max_features': 0.5, 'n_estimators': 500, 'learning_rate': 0.05, 'max_depth': 5, 'subsample': 0.8},\n",
       " mean: 0.81594, std: 0.02722, params: {'max_features': 0.5, 'n_estimators': 500, 'learning_rate': 0.05, 'max_depth': 6, 'subsample': 0.8},\n",
       " mean: 0.81594, std: 0.02583, params: {'max_features': 1, 'n_estimators': 500, 'learning_rate': 0.05, 'max_depth': 8, 'subsample': 0.2},\n",
       " mean: 0.81594, std: 0.02436, params: {'max_features': 1, 'n_estimators': 100, 'learning_rate': 0.1, 'max_depth': 6, 'subsample': 0.2},\n",
       " mean: 0.81594, std: 0.02871, params: {'max_features': 1, 'n_estimators': 100, 'learning_rate': 0.1, 'max_depth': 6, 'subsample': 1},\n",
       " mean: 0.81594, std: 0.03998, params: {'max_features': 1, 'n_estimators': 100, 'learning_rate': 0.1, 'max_depth': 7, 'subsample': 1},\n",
       " mean: 0.81594, std: 0.02925, params: {'max_features': 0.5, 'n_estimators': 500, 'learning_rate': 0.1, 'max_depth': 8, 'subsample': 1},\n",
       " mean: 0.81594, std: 0.02125, params: {'max_features': 1, 'n_estimators': 100, 'learning_rate': 0.8, 'max_depth': 3, 'subsample': 0.8},\n",
       " mean: 0.81594, std: 0.02583, params: {'max_features': 0.5, 'n_estimators': 500, 'learning_rate': 0.8, 'max_depth': 8, 'subsample': 1},\n",
       " mean: 0.81481, std: 0.03031, params: {'max_features': 1, 'n_estimators': 500, 'learning_rate': 0.05, 'max_depth': 5, 'subsample': 1},\n",
       " mean: 0.81481, std: 0.03326, params: {'max_features': 1, 'n_estimators': 500, 'learning_rate': 0.1, 'max_depth': 5, 'subsample': 0.2},\n",
       " mean: 0.81481, std: 0.01875, params: {'max_features': 0.5, 'n_estimators': 100, 'learning_rate': 0.1, 'max_depth': 8, 'subsample': 0.8},\n",
       " mean: 0.81481, std: 0.02471, params: {'max_features': 1, 'n_estimators': 100, 'learning_rate': 0.1, 'max_depth': 8, 'subsample': 0.2},\n",
       " mean: 0.81481, std: 0.02702, params: {'max_features': 1, 'n_estimators': 100, 'learning_rate': 0.5, 'max_depth': 3, 'subsample': 0.5},\n",
       " mean: 0.81481, std: 0.02696, params: {'max_features': 1, 'n_estimators': 500, 'learning_rate': 0.5, 'max_depth': 3, 'subsample': 1},\n",
       " mean: 0.81481, std: 0.02096, params: {'max_features': 1, 'n_estimators': 100, 'learning_rate': 0.5, 'max_depth': 4, 'subsample': 0.8},\n",
       " mean: 0.81481, std: 0.03616, params: {'max_features': 0.5, 'n_estimators': 100, 'learning_rate': 0.5, 'max_depth': 8, 'subsample': 1},\n",
       " mean: 0.81481, std: 0.02453, params: {'max_features': 0.5, 'n_estimators': 500, 'learning_rate': 0.8, 'max_depth': 4, 'subsample': 1},\n",
       " mean: 0.81369, std: 0.01847, params: {'max_features': 0.5, 'n_estimators': 500, 'learning_rate': 0.05, 'max_depth': 5, 'subsample': 1},\n",
       " mean: 0.81369, std: 0.02808, params: {'max_features': 1, 'n_estimators': 500, 'learning_rate': 0.05, 'max_depth': 6, 'subsample': 0.8},\n",
       " mean: 0.81369, std: 0.02879, params: {'max_features': 0.5, 'n_estimators': 500, 'learning_rate': 0.05, 'max_depth': 7, 'subsample': 0.8},\n",
       " mean: 0.81369, std: 0.03004, params: {'max_features': 1, 'n_estimators': 500, 'learning_rate': 0.1, 'max_depth': 4, 'subsample': 1},\n",
       " mean: 0.81369, std: 0.02396, params: {'max_features': 0.5, 'n_estimators': 500, 'learning_rate': 0.1, 'max_depth': 7, 'subsample': 0.8},\n",
       " mean: 0.81369, std: 0.02646, params: {'max_features': 0.5, 'n_estimators': 100, 'learning_rate': 0.8, 'max_depth': 6, 'subsample': 1},\n",
       " mean: 0.81369, std: 0.01327, params: {'max_features': 0.5, 'n_estimators': 100, 'learning_rate': 1, 'max_depth': 3, 'subsample': 1},\n",
       " mean: 0.81369, std: 0.02470, params: {'max_features': 1, 'n_estimators': 100, 'learning_rate': 1, 'max_depth': 3, 'subsample': 0.8},\n",
       " mean: 0.81257, std: 0.02689, params: {'max_features': 0.5, 'n_estimators': 500, 'learning_rate': 0.05, 'max_depth': 8, 'subsample': 0.5},\n",
       " mean: 0.81257, std: 0.02203, params: {'max_features': 0.5, 'n_estimators': 100, 'learning_rate': 0.1, 'max_depth': 7, 'subsample': 1},\n",
       " mean: 0.81257, std: 0.03182, params: {'max_features': 1, 'n_estimators': 100, 'learning_rate': 0.1, 'max_depth': 7, 'subsample': 0.2},\n",
       " mean: 0.81257, std: 0.03190, params: {'max_features': 1, 'n_estimators': 100, 'learning_rate': 0.1, 'max_depth': 8, 'subsample': 0.8},\n",
       " mean: 0.81257, std: 0.01875, params: {'max_features': 0.5, 'n_estimators': 500, 'learning_rate': 0.5, 'max_depth': 3, 'subsample': 1},\n",
       " mean: 0.81257, std: 0.02700, params: {'max_features': 1, 'n_estimators': 500, 'learning_rate': 0.5, 'max_depth': 4, 'subsample': 1},\n",
       " mean: 0.81145, std: 0.02322, params: {'max_features': 0.5, 'n_estimators': 500, 'learning_rate': 0.05, 'max_depth': 6, 'subsample': 1},\n",
       " mean: 0.81145, std: 0.02544, params: {'max_features': 0.5, 'n_estimators': 500, 'learning_rate': 0.1, 'max_depth': 5, 'subsample': 0.8},\n",
       " mean: 0.81145, std: 0.02888, params: {'max_features': 0.5, 'n_estimators': 500, 'learning_rate': 0.1, 'max_depth': 6, 'subsample': 0.5},\n",
       " mean: 0.81145, std: 0.03320, params: {'max_features': 1, 'n_estimators': 100, 'learning_rate': 0.1, 'max_depth': 7, 'subsample': 0.5},\n",
       " mean: 0.81145, std: 0.03562, params: {'max_features': 1, 'n_estimators': 100, 'learning_rate': 0.1, 'max_depth': 7, 'subsample': 0.8},\n",
       " mean: 0.81145, std: 0.02172, params: {'max_features': 0.5, 'n_estimators': 100, 'learning_rate': 0.1, 'max_depth': 8, 'subsample': 1},\n",
       " mean: 0.81145, std: 0.03525, params: {'max_features': 0.5, 'n_estimators': 500, 'learning_rate': 0.5, 'max_depth': 3, 'subsample': 0.8},\n",
       " mean: 0.81145, std: 0.00902, params: {'max_features': 1, 'n_estimators': 100, 'learning_rate': 0.5, 'max_depth': 4, 'subsample': 0.5},\n",
       " mean: 0.81145, std: 0.01861, params: {'max_features': 0.5, 'n_estimators': 500, 'learning_rate': 0.5, 'max_depth': 5, 'subsample': 1},\n",
       " mean: 0.81145, std: 0.02369, params: {'max_features': 1, 'n_estimators': 500, 'learning_rate': 0.8, 'max_depth': 3, 'subsample': 1},\n",
       " mean: 0.81145, std: 0.02468, params: {'max_features': 0.5, 'n_estimators': 500, 'learning_rate': 0.8, 'max_depth': 5, 'subsample': 1},\n",
       " mean: 0.81145, std: 0.02440, params: {'max_features': 0.5, 'n_estimators': 100, 'learning_rate': 1, 'max_depth': 4, 'subsample': 1},\n",
       " mean: 0.81033, std: 0.03031, params: {'max_features': 1, 'n_estimators': 500, 'learning_rate': 0.05, 'max_depth': 7, 'subsample': 0.2},\n",
       " mean: 0.81033, std: 0.02832, params: {'max_features': 1, 'n_estimators': 500, 'learning_rate': 0.1, 'max_depth': 6, 'subsample': 0.2},\n",
       " mean: 0.81033, std: 0.02254, params: {'max_features': 1, 'n_estimators': 500, 'learning_rate': 0.1, 'max_depth': 6, 'subsample': 1},\n",
       " mean: 0.81033, std: 0.03281, params: {'max_features': 0.5, 'n_estimators': 100, 'learning_rate': 0.1, 'max_depth': 7, 'subsample': 0.8},\n",
       " mean: 0.81033, std: 0.03422, params: {'max_features': 1, 'n_estimators': 100, 'learning_rate': 0.1, 'max_depth': 8, 'subsample': 1},\n",
       " mean: 0.81033, std: 0.02581, params: {'max_features': 0.5, 'n_estimators': 100, 'learning_rate': 1, 'max_depth': 8, 'subsample': 1},\n",
       " mean: 0.80920, std: 0.02636, params: {'max_features': 0.5, 'n_estimators': 500, 'learning_rate': 0.05, 'max_depth': 7, 'subsample': 1},\n",
       " mean: 0.80920, std: 0.03275, params: {'max_features': 0.5, 'n_estimators': 500, 'learning_rate': 0.05, 'max_depth': 8, 'subsample': 0.8},\n",
       " mean: 0.80920, std: 0.02386, params: {'max_features': 0.5, 'n_estimators': 500, 'learning_rate': 0.05, 'max_depth': 8, 'subsample': 1},\n",
       " mean: 0.80920, std: 0.02841, params: {'max_features': 0.5, 'n_estimators': 100, 'learning_rate': 0.1, 'max_depth': 5, 'subsample': 0.2},\n",
       " mean: 0.80920, std: 0.03137, params: {'max_features': 1, 'n_estimators': 500, 'learning_rate': 0.1, 'max_depth': 5, 'subsample': 0.8},\n",
       " mean: 0.80920, std: 0.02664, params: {'max_features': 0.5, 'n_estimators': 500, 'learning_rate': 0.1, 'max_depth': 6, 'subsample': 0.8},\n",
       " mean: 0.80920, std: 0.02099, params: {'max_features': 0.5, 'n_estimators': 500, 'learning_rate': 0.1, 'max_depth': 6, 'subsample': 1},\n",
       " mean: 0.80920, std: 0.03360, params: {'max_features': 1, 'n_estimators': 500, 'learning_rate': 0.1, 'max_depth': 6, 'subsample': 0.8},\n",
       " mean: 0.80920, std: 0.01783, params: {'max_features': 1, 'n_estimators': 500, 'learning_rate': 0.5, 'max_depth': 3, 'subsample': 0.8},\n",
       " mean: 0.80920, std: 0.02835, params: {'max_features': 0.5, 'n_estimators': 500, 'learning_rate': 0.8, 'max_depth': 3, 'subsample': 1},\n",
       " mean: 0.80920, std: 0.02616, params: {'max_features': 1, 'n_estimators': 100, 'learning_rate': 0.8, 'max_depth': 3, 'subsample': 1},\n",
       " mean: 0.80920, std: 0.02345, params: {'max_features': 0.5, 'n_estimators': 500, 'learning_rate': 1, 'max_depth': 3, 'subsample': 1},\n",
       " mean: 0.80920, std: 0.02500, params: {'max_features': 1, 'n_estimators': 100, 'learning_rate': 1, 'max_depth': 5, 'subsample': 1},\n",
       " mean: 0.80808, std: 0.02718, params: {'max_features': 1, 'n_estimators': 100, 'learning_rate': 0.05, 'max_depth': 8, 'subsample': 0.8},\n",
       " mean: 0.80808, std: 0.02855, params: {'max_features': 1, 'n_estimators': 500, 'learning_rate': 0.1, 'max_depth': 5, 'subsample': 1},\n",
       " mean: 0.80808, std: 0.03307, params: {'max_features': 0.5, 'n_estimators': 500, 'learning_rate': 0.1, 'max_depth': 7, 'subsample': 0.5},\n",
       " mean: 0.80808, std: 0.02211, params: {'max_features': 0.5, 'n_estimators': 500, 'learning_rate': 0.1, 'max_depth': 7, 'subsample': 1},\n",
       " mean: 0.80808, std: 0.04499, params: {'max_features': 1, 'n_estimators': 100, 'learning_rate': 0.5, 'max_depth': 5, 'subsample': 1},\n",
       " mean: 0.80696, std: 0.02984, params: {'max_features': 1, 'n_estimators': 500, 'learning_rate': 0.05, 'max_depth': 7, 'subsample': 0.5},\n",
       " mean: 0.80696, std: 0.03045, params: {'max_features': 1, 'n_estimators': 100, 'learning_rate': 0.05, 'max_depth': 8, 'subsample': 1},\n",
       " mean: 0.80696, std: 0.02911, params: {'max_features': 1, 'n_estimators': 100, 'learning_rate': 0.1, 'max_depth': 8, 'subsample': 0.5},\n",
       " mean: 0.80696, std: 0.02796, params: {'max_features': 0.5, 'n_estimators': 500, 'learning_rate': 0.5, 'max_depth': 4, 'subsample': 1},\n",
       " mean: 0.80696, std: 0.02872, params: {'max_features': 1, 'n_estimators': 500, 'learning_rate': 0.5, 'max_depth': 4, 'subsample': 0.8},\n",
       " mean: 0.80584, std: 0.03597, params: {'max_features': 1, 'n_estimators': 500, 'learning_rate': 0.05, 'max_depth': 7, 'subsample': 0.8},\n",
       " mean: 0.80584, std: 0.02288, params: {'max_features': 1, 'n_estimators': 500, 'learning_rate': 0.05, 'max_depth': 8, 'subsample': 0.5},\n",
       " mean: 0.80584, std: 0.02622, params: {'max_features': 0.5, 'n_estimators': 100, 'learning_rate': 0.5, 'max_depth': 5, 'subsample': 0.8},\n",
       " mean: 0.80584, std: 0.02950, params: {'max_features': 0.5, 'n_estimators': 100, 'learning_rate': 0.5, 'max_depth': 6, 'subsample': 0.8},\n",
       " mean: 0.80471, std: 0.02570, params: {'max_features': 1, 'n_estimators': 500, 'learning_rate': 0.05, 'max_depth': 7, 'subsample': 1},\n",
       " mean: 0.80471, std: 0.03466, params: {'max_features': 1, 'n_estimators': 500, 'learning_rate': 0.1, 'max_depth': 6, 'subsample': 0.5},\n",
       " mean: 0.80471, std: 0.03148, params: {'max_features': 0.5, 'n_estimators': 500, 'learning_rate': 0.1, 'max_depth': 8, 'subsample': 0.8},\n",
       " mean: 0.80471, std: 0.03000, params: {'max_features': 1, 'n_estimators': 500, 'learning_rate': 0.1, 'max_depth': 8, 'subsample': 0.2},\n",
       " mean: 0.80471, std: 0.02893, params: {'max_features': 0.5, 'n_estimators': 100, 'learning_rate': 0.5, 'max_depth': 4, 'subsample': 0.8},\n",
       " mean: 0.80471, std: 0.02523, params: {'max_features': 0.5, 'n_estimators': 500, 'learning_rate': 0.5, 'max_depth': 6, 'subsample': 1},\n",
       " mean: 0.80471, std: 0.02746, params: {'max_features': 0.5, 'n_estimators': 500, 'learning_rate': 0.5, 'max_depth': 7, 'subsample': 1},\n",
       " mean: 0.80471, std: 0.02590, params: {'max_features': 1, 'n_estimators': 500, 'learning_rate': 0.8, 'max_depth': 4, 'subsample': 1},\n",
       " mean: 0.80359, std: 0.03396, params: {'max_features': 1, 'n_estimators': 100, 'learning_rate': 0.5, 'max_depth': 6, 'subsample': 1},\n",
       " mean: 0.80359, std: 0.02613, params: {'max_features': 0.5, 'n_estimators': 100, 'learning_rate': 0.8, 'max_depth': 5, 'subsample': 1},\n",
       " mean: 0.80359, std: 0.02221, params: {'max_features': 0.5, 'n_estimators': 500, 'learning_rate': 0.8, 'max_depth': 6, 'subsample': 1},\n",
       " mean: 0.80247, std: 0.03029, params: {'max_features': 0.5, 'n_estimators': 100, 'learning_rate': 0.8, 'max_depth': 7, 'subsample': 1},\n",
       " mean: 0.80247, std: 0.03396, params: {'max_features': 0.5, 'n_estimators': 100, 'learning_rate': 0.8, 'max_depth': 8, 'subsample': 1},\n",
       " mean: 0.80135, std: 0.02440, params: {'max_features': 0.5, 'n_estimators': 100, 'learning_rate': 0.8, 'max_depth': 4, 'subsample': 1},\n",
       " mean: 0.80022, std: 0.03314, params: {'max_features': 1, 'n_estimators': 100, 'learning_rate': 0.5, 'max_depth': 5, 'subsample': 0.8},\n",
       " mean: 0.80022, std: 0.03587, params: {'max_features': 1, 'n_estimators': 500, 'learning_rate': 0.5, 'max_depth': 5, 'subsample': 1},\n",
       " mean: 0.80022, std: 0.03195, params: {'max_features': 1, 'n_estimators': 500, 'learning_rate': 0.8, 'max_depth': 5, 'subsample': 1},\n",
       " mean: 0.79910, std: 0.02935, params: {'max_features': 1, 'n_estimators': 500, 'learning_rate': 0.1, 'max_depth': 8, 'subsample': 0.5},\n",
       " mean: 0.79910, std: 0.03383, params: {'max_features': 1, 'n_estimators': 500, 'learning_rate': 0.1, 'max_depth': 8, 'subsample': 0.8},\n",
       " mean: 0.79910, std: 0.03482, params: {'max_features': 0.5, 'n_estimators': 100, 'learning_rate': 0.5, 'max_depth': 3, 'subsample': 0.5},\n",
       " mean: 0.79910, std: 0.03873, params: {'max_features': 0.5, 'n_estimators': 100, 'learning_rate': 0.5, 'max_depth': 7, 'subsample': 0.8},\n",
       " mean: 0.79798, std: 0.03570, params: {'max_features': 1, 'n_estimators': 500, 'learning_rate': 0.05, 'max_depth': 8, 'subsample': 1},\n",
       " mean: 0.79798, std: 0.03596, params: {'max_features': 1, 'n_estimators': 500, 'learning_rate': 0.1, 'max_depth': 7, 'subsample': 1},\n",
       " mean: 0.79798, std: 0.02199, params: {'max_features': 1, 'n_estimators': 100, 'learning_rate': 0.5, 'max_depth': 7, 'subsample': 0.8},\n",
       " mean: 0.79686, std: 0.02803, params: {'max_features': 1, 'n_estimators': 100, 'learning_rate': 0.5, 'max_depth': 7, 'subsample': 1},\n",
       " mean: 0.79686, std: 0.03613, params: {'max_features': 1, 'n_estimators': 500, 'learning_rate': 0.5, 'max_depth': 7, 'subsample': 1},\n",
       " mean: 0.79574, std: 0.03524, params: {'max_features': 1, 'n_estimators': 500, 'learning_rate': 0.05, 'max_depth': 8, 'subsample': 0.8},\n",
       " mean: 0.79574, std: 0.04424, params: {'max_features': 0.5, 'n_estimators': 500, 'learning_rate': 0.1, 'max_depth': 4, 'subsample': 0.2},\n",
       " mean: 0.79574, std: 0.02993, params: {'max_features': 1, 'n_estimators': 500, 'learning_rate': 0.5, 'max_depth': 6, 'subsample': 1},\n",
       " mean: 0.79574, std: 0.02642, params: {'max_features': 1, 'n_estimators': 100, 'learning_rate': 0.8, 'max_depth': 5, 'subsample': 1},\n",
       " mean: 0.79461, std: 0.03443, params: {'max_features': 1, 'n_estimators': 500, 'learning_rate': 0.1, 'max_depth': 7, 'subsample': 0.5},\n",
       " mean: 0.79461, std: 0.03053, params: {'max_features': 1, 'n_estimators': 500, 'learning_rate': 0.1, 'max_depth': 7, 'subsample': 0.8},\n",
       " mean: 0.79461, std: 0.03624, params: {'max_features': 1, 'n_estimators': 100, 'learning_rate': 1, 'max_depth': 7, 'subsample': 1},\n",
       " mean: 0.79349, std: 0.04164, params: {'max_features': 1, 'n_estimators': 100, 'learning_rate': 0.5, 'max_depth': 8, 'subsample': 1},\n",
       " mean: 0.79349, std: 0.03238, params: {'max_features': 1, 'n_estimators': 500, 'learning_rate': 0.8, 'max_depth': 6, 'subsample': 1},\n",
       " mean: 0.79237, std: 0.04245, params: {'max_features': 1, 'n_estimators': 500, 'learning_rate': 0.5, 'max_depth': 8, 'subsample': 1},\n",
       " mean: 0.79012, std: 0.04174, params: {'max_features': 0.5, 'n_estimators': 100, 'learning_rate': 0.5, 'max_depth': 8, 'subsample': 0.8},\n",
       " mean: 0.79012, std: 0.05966, params: {'max_features': 0.5, 'n_estimators': 100, 'learning_rate': 1, 'max_depth': 6, 'subsample': 1},\n",
       " mean: 0.78900, std: 0.03518, params: {'max_features': 1, 'n_estimators': 100, 'learning_rate': 0.8, 'max_depth': 7, 'subsample': 1},\n",
       " mean: 0.78900, std: 0.02553, params: {'max_features': 1, 'n_estimators': 500, 'learning_rate': 0.8, 'max_depth': 7, 'subsample': 1},\n",
       " mean: 0.78788, std: 0.03737, params: {'max_features': 1, 'n_estimators': 500, 'learning_rate': 0.1, 'max_depth': 8, 'subsample': 1},\n",
       " mean: 0.78788, std: 0.02212, params: {'max_features': 1, 'n_estimators': 100, 'learning_rate': 0.8, 'max_depth': 4, 'subsample': 0.8},\n",
       " mean: 0.78788, std: 0.03648, params: {'max_features': 1, 'n_estimators': 100, 'learning_rate': 0.8, 'max_depth': 6, 'subsample': 1},\n",
       " mean: 0.78563, std: 0.02885, params: {'max_features': 1, 'n_estimators': 500, 'learning_rate': 0.8, 'max_depth': 8, 'subsample': 1},\n",
       " mean: 0.78451, std: 0.03046, params: {'max_features': 1, 'n_estimators': 500, 'learning_rate': 1, 'max_depth': 7, 'subsample': 1},\n",
       " mean: 0.78339, std: 0.03019, params: {'max_features': 1, 'n_estimators': 100, 'learning_rate': 1, 'max_depth': 6, 'subsample': 1},\n",
       " mean: 0.78227, std: 0.02935, params: {'max_features': 0.5, 'n_estimators': 100, 'learning_rate': 0.5, 'max_depth': 4, 'subsample': 0.5},\n",
       " mean: 0.78227, std: 0.02899, params: {'max_features': 0.5, 'n_estimators': 100, 'learning_rate': 1, 'max_depth': 5, 'subsample': 1},\n",
       " mean: 0.77778, std: 0.05257, params: {'max_features': 1, 'n_estimators': 500, 'learning_rate': 0.5, 'max_depth': 5, 'subsample': 0.8},\n",
       " mean: 0.77553, std: 0.09860, params: {'max_features': 1, 'n_estimators': 100, 'learning_rate': 0.8, 'max_depth': 4, 'subsample': 1},\n",
       " mean: 0.77441, std: 0.03527, params: {'max_features': 0.5, 'n_estimators': 100, 'learning_rate': 0.8, 'max_depth': 4, 'subsample': 0.8},\n",
       " mean: 0.77329, std: 0.07973, params: {'max_features': 1, 'n_estimators': 100, 'learning_rate': 0.5, 'max_depth': 8, 'subsample': 0.8},\n",
       " mean: 0.77104, std: 0.02869, params: {'max_features': 0.5, 'n_estimators': 100, 'learning_rate': 1, 'max_depth': 4, 'subsample': 0.8},\n",
       " mean: 0.76992, std: 0.04754, params: {'max_features': 1, 'n_estimators': 100, 'learning_rate': 0.5, 'max_depth': 6, 'subsample': 0.8},\n",
       " mean: 0.76655, std: 0.13269, params: {'max_features': 0.5, 'n_estimators': 500, 'learning_rate': 0.1, 'max_depth': 7, 'subsample': 0.2},\n",
       " mean: 0.76655, std: 0.02289, params: {'max_features': 1, 'n_estimators': 100, 'learning_rate': 0.5, 'max_depth': 5, 'subsample': 0.5},\n",
       " mean: 0.76655, std: 0.07184, params: {'max_features': 1, 'n_estimators': 100, 'learning_rate': 0.8, 'max_depth': 5, 'subsample': 0.8},\n",
       " mean: 0.76543, std: 0.10691, params: {'max_features': 0.5, 'n_estimators': 500, 'learning_rate': 0.8, 'max_depth': 7, 'subsample': 1},\n",
       " mean: 0.76543, std: 0.11419, params: {'max_features': 1, 'n_estimators': 500, 'learning_rate': 1, 'max_depth': 3, 'subsample': 1},\n",
       " mean: 0.76319, std: 0.06702, params: {'max_features': 1, 'n_estimators': 500, 'learning_rate': 0.5, 'max_depth': 3, 'subsample': 0.5},\n",
       " mean: 0.76319, std: 0.02481, params: {'max_features': 0.5, 'n_estimators': 100, 'learning_rate': 0.8, 'max_depth': 3, 'subsample': 0.5},\n",
       " mean: 0.76094, std: 0.07708, params: {'max_features': 0.5, 'n_estimators': 500, 'learning_rate': 1, 'max_depth': 8, 'subsample': 1},\n",
       " mean: 0.75982, std: 0.08180, params: {'max_features': 0.5, 'n_estimators': 100, 'learning_rate': 1, 'max_depth': 3, 'subsample': 0.8},\n",
       " mean: 0.75982, std: 0.06678, params: {'max_features': 1, 'n_estimators': 500, 'learning_rate': 1, 'max_depth': 4, 'subsample': 1},\n",
       " mean: 0.75870, std: 0.11408, params: {'max_features': 1, 'n_estimators': 100, 'learning_rate': 1, 'max_depth': 4, 'subsample': 1},\n",
       " mean: 0.75533, std: 0.04338, params: {'max_features': 1, 'n_estimators': 100, 'learning_rate': 0.8, 'max_depth': 6, 'subsample': 0.8},\n",
       " mean: 0.75533, std: 0.10836, params: {'max_features': 0.5, 'n_estimators': 500, 'learning_rate': 1, 'max_depth': 4, 'subsample': 1},\n",
       " mean: 0.75309, std: 0.08411, params: {'max_features': 0.5, 'n_estimators': 500, 'learning_rate': 0.5, 'max_depth': 4, 'subsample': 0.8},\n",
       " mean: 0.74860, std: 0.11890, params: {'max_features': 1, 'n_estimators': 100, 'learning_rate': 0.8, 'max_depth': 8, 'subsample': 1},\n",
       " mean: 0.74747, std: 0.09175, params: {'max_features': 1, 'n_estimators': 500, 'learning_rate': 1, 'max_depth': 8, 'subsample': 1},\n",
       " mean: 0.74635, std: 0.05078, params: {'max_features': 0.5, 'n_estimators': 500, 'learning_rate': 0.8, 'max_depth': 3, 'subsample': 0.8},\n",
       " mean: 0.74299, std: 0.10074, params: {'max_features': 1, 'n_estimators': 500, 'learning_rate': 1, 'max_depth': 5, 'subsample': 1},\n",
       " mean: 0.73850, std: 0.14168, params: {'max_features': 0.5, 'n_estimators': 500, 'learning_rate': 1, 'max_depth': 6, 'subsample': 1},\n",
       " mean: 0.73850, std: 0.12908, params: {'max_features': 1, 'n_estimators': 100, 'learning_rate': 1, 'max_depth': 8, 'subsample': 1},\n",
       " mean: 0.73625, std: 0.13169, params: {'max_features': 1, 'n_estimators': 500, 'learning_rate': 1, 'max_depth': 6, 'subsample': 1},\n",
       " mean: 0.73288, std: 0.06092, params: {'max_features': 0.5, 'n_estimators': 500, 'learning_rate': 0.5, 'max_depth': 3, 'subsample': 0.5},\n",
       " mean: 0.72952, std: 0.08988, params: {'max_features': 0.5, 'n_estimators': 100, 'learning_rate': 0.5, 'max_depth': 5, 'subsample': 0.5},\n",
       " mean: 0.72391, std: 0.05039, params: {'max_features': 1, 'n_estimators': 100, 'learning_rate': 0.8, 'max_depth': 3, 'subsample': 0.5},\n",
       " mean: 0.72278, std: 0.13176, params: {'max_features': 1, 'n_estimators': 500, 'learning_rate': 0.8, 'max_depth': 3, 'subsample': 0.8},\n",
       " mean: 0.71493, std: 0.10067, params: {'max_features': 1, 'n_estimators': 500, 'learning_rate': 0.5, 'max_depth': 7, 'subsample': 0.8},\n",
       " mean: 0.71044, std: 0.11739, params: {'max_features': 0.5, 'n_estimators': 500, 'learning_rate': 0.5, 'max_depth': 5, 'subsample': 0.8},\n",
       " mean: 0.71044, std: 0.02566, params: {'max_features': 1, 'n_estimators': 100, 'learning_rate': 0.5, 'max_depth': 7, 'subsample': 0.5},\n",
       " mean: 0.70819, std: 0.10269, params: {'max_features': 1, 'n_estimators': 500, 'learning_rate': 0.5, 'max_depth': 6, 'subsample': 0.8},\n",
       " mean: 0.69585, std: 0.05499, params: {'max_features': 1, 'n_estimators': 100, 'learning_rate': 0.5, 'max_depth': 6, 'subsample': 0.5},\n",
       " mean: 0.69360, std: 0.08144, params: {'max_features': 1, 'n_estimators': 500, 'learning_rate': 0.8, 'max_depth': 8, 'subsample': 0.5},\n",
       " mean: 0.68911, std: 0.03872, params: {'max_features': 1, 'n_estimators': 500, 'learning_rate': 0.5, 'max_depth': 6, 'subsample': 0.2},\n",
       " mean: 0.68911, std: 0.14998, params: {'max_features': 1, 'n_estimators': 100, 'learning_rate': 1, 'max_depth': 4, 'subsample': 0.8},\n",
       " mean: 0.68799, std: 0.09871, params: {'max_features': 1, 'n_estimators': 500, 'learning_rate': 0.5, 'max_depth': 8, 'subsample': 0.8},\n",
       " mean: 0.68462, std: 0.18296, params: {'max_features': 0.5, 'n_estimators': 500, 'learning_rate': 1, 'max_depth': 7, 'subsample': 1},\n",
       " mean: 0.67789, std: 0.14265, params: {'max_features': 0.5, 'n_estimators': 500, 'learning_rate': 1, 'max_depth': 5, 'subsample': 1},\n",
       " mean: 0.66779, std: 0.05216, params: {'max_features': 0.5, 'n_estimators': 100, 'learning_rate': 0.8, 'max_depth': 4, 'subsample': 0.5},\n",
       " mean: 0.66779, std: 0.07553, params: {'max_features': 0.5, 'n_estimators': 100, 'learning_rate': 0.8, 'max_depth': 6, 'subsample': 0.8},\n",
       " mean: 0.66667, std: 0.02226, params: {'max_features': 0.5, 'n_estimators': 100, 'learning_rate': 0.8, 'max_depth': 5, 'subsample': 0.8},\n",
       " mean: 0.66667, std: 0.04692, params: {'max_features': 1, 'n_estimators': 100, 'learning_rate': 1, 'max_depth': 3, 'subsample': 0.5},\n",
       " mean: 0.66105, std: 0.03845, params: {'max_features': 1, 'n_estimators': 500, 'learning_rate': 1, 'max_depth': 5, 'subsample': 0.5},\n",
       " mean: 0.65769, std: 0.05335, params: {'max_features': 1, 'n_estimators': 100, 'learning_rate': 1, 'max_depth': 4, 'subsample': 0.5},\n",
       " mean: 0.65320, std: 0.03028, params: {'max_features': 1, 'n_estimators': 500, 'learning_rate': 0.8, 'max_depth': 7, 'subsample': 0.8},\n",
       " mean: 0.65208, std: 0.12216, params: {'max_features': 1, 'n_estimators': 100, 'learning_rate': 0.8, 'max_depth': 4, 'subsample': 0.5},\n",
       " mean: 0.65095, std: 0.07067, params: {'max_features': 1, 'n_estimators': 100, 'learning_rate': 1, 'max_depth': 8, 'subsample': 0.2},\n",
       " mean: 0.64871, std: 0.07365, params: {'max_features': 1, 'n_estimators': 500, 'learning_rate': 1, 'max_depth': 6, 'subsample': 0.2},\n",
       " mean: 0.64646, std: 0.05137, params: {'max_features': 1, 'n_estimators': 100, 'learning_rate': 0.8, 'max_depth': 6, 'subsample': 0.2},\n",
       " mean: 0.64534, std: 0.07888, params: {'max_features': 1, 'n_estimators': 500, 'learning_rate': 0.8, 'max_depth': 4, 'subsample': 0.2},\n",
       " mean: 0.64198, std: 0.09621, params: {'max_features': 0.5, 'n_estimators': 500, 'learning_rate': 1, 'max_depth': 5, 'subsample': 0.5},\n",
       " mean: 0.64085, std: 0.07691, params: {'max_features': 1, 'n_estimators': 500, 'learning_rate': 0.8, 'max_depth': 4, 'subsample': 0.5},\n",
       " mean: 0.64085, std: 0.03847, params: {'max_features': 1, 'n_estimators': 500, 'learning_rate': 1, 'max_depth': 7, 'subsample': 0.2},\n",
       " mean: 0.63861, std: 0.04175, params: {'max_features': 0.5, 'n_estimators': 100, 'learning_rate': 0.5, 'max_depth': 6, 'subsample': 0.5},\n",
       " mean: 0.63749, std: 0.04037, params: {'max_features': 1, 'n_estimators': 100, 'learning_rate': 0.5, 'max_depth': 8, 'subsample': 0.5},\n",
       " mean: 0.63749, std: 0.09050, params: {'max_features': 1, 'n_estimators': 500, 'learning_rate': 1, 'max_depth': 6, 'subsample': 0.5},\n",
       " mean: 0.63524, std: 0.11553, params: {'max_features': 1, 'n_estimators': 100, 'learning_rate': 0.8, 'max_depth': 3, 'subsample': 0.2},\n",
       " mean: 0.63524, std: 0.06365, params: {'max_features': 0.5, 'n_estimators': 100, 'learning_rate': 1, 'max_depth': 5, 'subsample': 0.8},\n",
       " mean: 0.63300, std: 0.17404, params: {'max_features': 1, 'n_estimators': 500, 'learning_rate': 1, 'max_depth': 3, 'subsample': 0.8},\n",
       " mean: 0.62963, std: 0.11590, params: {'max_features': 1, 'n_estimators': 500, 'learning_rate': 0.5, 'max_depth': 3, 'subsample': 0.2},\n",
       " mean: 0.62738, std: 0.05836, params: {'max_features': 1, 'n_estimators': 500, 'learning_rate': 0.8, 'max_depth': 6, 'subsample': 0.2},\n",
       " mean: 0.62514, std: 0.08684, params: {'max_features': 1, 'n_estimators': 500, 'learning_rate': 0.8, 'max_depth': 3, 'subsample': 0.2},\n",
       " mean: 0.62514, std: 0.06966, params: {'max_features': 1, 'n_estimators': 100, 'learning_rate': 0.8, 'max_depth': 7, 'subsample': 0.2},\n",
       " mean: 0.62402, std: 0.05876, params: {'max_features': 0.5, 'n_estimators': 100, 'learning_rate': 0.8, 'max_depth': 7, 'subsample': 0.8},\n",
       " mean: 0.62402, std: 0.07115, params: {'max_features': 1, 'n_estimators': 100, 'learning_rate': 0.8, 'max_depth': 7, 'subsample': 0.8},\n",
       " mean: 0.62290, std: 0.08367, params: {'max_features': 1, 'n_estimators': 100, 'learning_rate': 1, 'max_depth': 5, 'subsample': 0.5},\n",
       " mean: 0.62177, std: 0.06937, params: {'max_features': 1, 'n_estimators': 500, 'learning_rate': 0.8, 'max_depth': 7, 'subsample': 0.5},\n",
       " mean: 0.61953, std: 0.03574, params: {'max_features': 0.5, 'n_estimators': 100, 'learning_rate': 0.8, 'max_depth': 8, 'subsample': 0.5},\n",
       " mean: 0.61953, std: 0.08937, params: {'max_features': 1, 'n_estimators': 100, 'learning_rate': 1, 'max_depth': 6, 'subsample': 0.2},\n",
       " mean: 0.61841, std: 0.12418, params: {'max_features': 1, 'n_estimators': 100, 'learning_rate': 1, 'max_depth': 8, 'subsample': 0.8},\n",
       " mean: 0.61728, std: 0.12335, params: {'max_features': 0.5, 'n_estimators': 500, 'learning_rate': 0.5, 'max_depth': 3, 'subsample': 0.2},\n",
       " mean: 0.61504, std: 0.07268, params: {'max_features': 1, 'n_estimators': 100, 'learning_rate': 0.5, 'max_depth': 6, 'subsample': 0.2},\n",
       " mean: 0.61392, std: 0.11626, params: {'max_features': 1, 'n_estimators': 100, 'learning_rate': 0.5, 'max_depth': 3, 'subsample': 0.2},\n",
       " mean: 0.61279, std: 0.08548, params: {'max_features': 0.5, 'n_estimators': 500, 'learning_rate': 0.5, 'max_depth': 8, 'subsample': 0.8},\n",
       " mean: 0.61279, std: 0.08072, params: {'max_features': 1, 'n_estimators': 500, 'learning_rate': 1, 'max_depth': 6, 'subsample': 0.8},\n",
       " mean: 0.61279, std: 0.06935, params: {'max_features': 1, 'n_estimators': 500, 'learning_rate': 1, 'max_depth': 8, 'subsample': 0.5},\n",
       " mean: 0.61167, std: 0.02587, params: {'max_features': 0.5, 'n_estimators': 500, 'learning_rate': 1, 'max_depth': 8, 'subsample': 0.8},\n",
       " mean: 0.61055, std: 0.06362, params: {'max_features': 1, 'n_estimators': 500, 'learning_rate': 1, 'max_depth': 7, 'subsample': 0.5},\n",
       " mean: 0.60718, std: 0.12446, params: {'max_features': 1, 'n_estimators': 100, 'learning_rate': 0.8, 'max_depth': 5, 'subsample': 0.2},\n",
       " mean: 0.60718, std: 0.09095, params: {'max_features': 0.5, 'n_estimators': 100, 'learning_rate': 1, 'max_depth': 3, 'subsample': 0.2},\n",
       " mean: 0.60718, std: 0.08867, params: {'max_features': 0.5, 'n_estimators': 500, 'learning_rate': 1, 'max_depth': 4, 'subsample': 0.2},\n",
       " mean: 0.60606, std: 0.05251, params: {'max_features': 0.5, 'n_estimators': 100, 'learning_rate': 0.8, 'max_depth': 6, 'subsample': 0.5},\n",
       " mean: 0.60606, std: 0.08581, params: {'max_features': 1, 'n_estimators': 100, 'learning_rate': 1, 'max_depth': 7, 'subsample': 0.2},\n",
       " mean: 0.60382, std: 0.02922, params: {'max_features': 0.5, 'n_estimators': 500, 'learning_rate': 0.8, 'max_depth': 8, 'subsample': 0.8},\n",
       " mean: 0.60269, std: 0.10013, params: {'max_features': 1, 'n_estimators': 100, 'learning_rate': 0.8, 'max_depth': 5, 'subsample': 0.5},\n",
       " mean: 0.60157, std: 0.09812, params: {'max_features': 0.5, 'n_estimators': 100, 'learning_rate': 0.5, 'max_depth': 3, 'subsample': 0.2},\n",
       " mean: 0.60157, std: 0.16066, params: {'max_features': 0.5, 'n_estimators': 500, 'learning_rate': 1, 'max_depth': 3, 'subsample': 0.8},\n",
       " mean: 0.59933, std: 0.11189, params: {'max_features': 1, 'n_estimators': 100, 'learning_rate': 0.5, 'max_depth': 4, 'subsample': 0.2},\n",
       " mean: 0.59933, std: 0.12396, params: {'max_features': 1, 'n_estimators': 500, 'learning_rate': 0.8, 'max_depth': 5, 'subsample': 0.2},\n",
       " mean: 0.59933, std: 0.09084, params: {'max_features': 0.5, 'n_estimators': 500, 'learning_rate': 0.8, 'max_depth': 6, 'subsample': 0.2},\n",
       " mean: 0.59933, std: 0.05563, params: {'max_features': 0.5, 'n_estimators': 100, 'learning_rate': 1, 'max_depth': 6, 'subsample': 0.5},\n",
       " mean: 0.59820, std: 0.09825, params: {'max_features': 1, 'n_estimators': 100, 'learning_rate': 1, 'max_depth': 6, 'subsample': 0.5},\n",
       " mean: 0.59820, std: 0.03314, params: {'max_features': 1, 'n_estimators': 100, 'learning_rate': 1, 'max_depth': 6, 'subsample': 0.8},\n",
       " mean: 0.59708, std: 0.07334, params: {'max_features': 0.5, 'n_estimators': 500, 'learning_rate': 0.8, 'max_depth': 4, 'subsample': 0.5},\n",
       " mean: 0.59708, std: 0.06847, params: {'max_features': 0.5, 'n_estimators': 500, 'learning_rate': 0.8, 'max_depth': 8, 'subsample': 0.2},\n",
       " mean: 0.59708, std: 0.04507, params: {'max_features': 0.5, 'n_estimators': 500, 'learning_rate': 1, 'max_depth': 6, 'subsample': 0.5},\n",
       " mean: 0.59596, std: 0.07603, params: {'max_features': 1, 'n_estimators': 500, 'learning_rate': 1, 'max_depth': 8, 'subsample': 0.8},\n",
       " mean: 0.59259, std: 0.07144, params: {'max_features': 1, 'n_estimators': 500, 'learning_rate': 0.5, 'max_depth': 8, 'subsample': 0.2},\n",
       " mean: 0.59259, std: 0.10369, params: {'max_features': 1, 'n_estimators': 100, 'learning_rate': 1, 'max_depth': 8, 'subsample': 0.5},\n",
       " mean: 0.59035, std: 0.15587, params: {'max_features': 0.5, 'n_estimators': 500, 'learning_rate': 0.5, 'max_depth': 7, 'subsample': 0.8},\n",
       " mean: 0.59035, std: 0.08274, params: {'max_features': 1, 'n_estimators': 500, 'learning_rate': 1, 'max_depth': 5, 'subsample': 0.8},\n",
       " mean: 0.58810, std: 0.13245, params: {'max_features': 0.5, 'n_estimators': 500, 'learning_rate': 1, 'max_depth': 3, 'subsample': 0.5},\n",
       " mean: 0.58698, std: 0.12476, params: {'max_features': 1, 'n_estimators': 500, 'learning_rate': 0.8, 'max_depth': 5, 'subsample': 0.5},\n",
       " mean: 0.58698, std: 0.09164, params: {'max_features': 0.5, 'n_estimators': 100, 'learning_rate': 0.8, 'max_depth': 6, 'subsample': 0.2},\n",
       " mean: 0.58474, std: 0.12186, params: {'max_features': 0.5, 'n_estimators': 500, 'learning_rate': 0.8, 'max_depth': 4, 'subsample': 0.2},\n",
       " mean: 0.58474, std: 0.11561, params: {'max_features': 1, 'n_estimators': 500, 'learning_rate': 0.8, 'max_depth': 5, 'subsample': 0.8},\n",
       " mean: 0.58474, std: 0.04406, params: {'max_features': 0.5, 'n_estimators': 500, 'learning_rate': 1, 'max_depth': 5, 'subsample': 0.2},\n",
       " mean: 0.58361, std: 0.06092, params: {'max_features': 1, 'n_estimators': 500, 'learning_rate': 0.8, 'max_depth': 6, 'subsample': 0.8},\n",
       " mean: 0.58361, std: 0.05754, params: {'max_features': 0.5, 'n_estimators': 500, 'learning_rate': 0.8, 'max_depth': 8, 'subsample': 0.5},\n",
       " mean: 0.58249, std: 0.08114, params: {'max_features': 0.5, 'n_estimators': 100, 'learning_rate': 0.8, 'max_depth': 7, 'subsample': 0.5},\n",
       " mean: 0.58137, std: 0.06945, params: {'max_features': 0.5, 'n_estimators': 100, 'learning_rate': 1, 'max_depth': 8, 'subsample': 0.8},\n",
       " mean: 0.58025, std: 0.07787, params: {'max_features': 1, 'n_estimators': 100, 'learning_rate': 0.5, 'max_depth': 8, 'subsample': 0.2},\n",
       " mean: 0.58025, std: 0.12065, params: {'max_features': 0.5, 'n_estimators': 500, 'learning_rate': 0.8, 'max_depth': 6, 'subsample': 0.8},\n",
       " mean: 0.58025, std: 0.06466, params: {'max_features': 0.5, 'n_estimators': 100, 'learning_rate': 1, 'max_depth': 7, 'subsample': 0.5},\n",
       " mean: 0.58025, std: 0.05616, params: {'max_features': 0.5, 'n_estimators': 100, 'learning_rate': 1, 'max_depth': 8, 'subsample': 0.2},\n",
       " mean: 0.57800, std: 0.12125, params: {'max_features': 0.5, 'n_estimators': 500, 'learning_rate': 1, 'max_depth': 6, 'subsample': 0.8},\n",
       " mean: 0.57688, std: 0.07352, params: {'max_features': 0.5, 'n_estimators': 100, 'learning_rate': 0.5, 'max_depth': 8, 'subsample': 0.5},\n",
       " mean: 0.57688, std: 0.09367, params: {'max_features': 0.5, 'n_estimators': 500, 'learning_rate': 0.8, 'max_depth': 6, 'subsample': 0.5},\n",
       " mean: 0.57576, std: 0.10559, params: {'max_features': 0.5, 'n_estimators': 100, 'learning_rate': 0.8, 'max_depth': 4, 'subsample': 0.2},\n",
       " mean: 0.57576, std: 0.04246, params: {'max_features': 1, 'n_estimators': 100, 'learning_rate': 0.8, 'max_depth': 8, 'subsample': 0.8},\n",
       " mean: 0.57576, std: 0.07185, params: {'max_features': 1, 'n_estimators': 500, 'learning_rate': 0.8, 'max_depth': 8, 'subsample': 0.8},\n",
       " mean: 0.57351, std: 0.10574, params: {'max_features': 1, 'n_estimators': 500, 'learning_rate': 1, 'max_depth': 5, 'subsample': 0.2},\n",
       " mean: 0.57239, std: 0.02989, params: {'max_features': 0.5, 'n_estimators': 100, 'learning_rate': 0.8, 'max_depth': 7, 'subsample': 0.2},\n",
       " mean: 0.57015, std: 0.05232, params: {'max_features': 0.5, 'n_estimators': 100, 'learning_rate': 0.5, 'max_depth': 8, 'subsample': 0.2},\n",
       " mean: 0.56902, std: 0.12448, params: {'max_features': 0.5, 'n_estimators': 500, 'learning_rate': 0.5, 'max_depth': 4, 'subsample': 0.2},\n",
       " mean: 0.56902, std: 0.11545, params: {'max_features': 0.5, 'n_estimators': 500, 'learning_rate': 1, 'max_depth': 6, 'subsample': 0.2},\n",
       " mean: 0.56790, std: 0.10872, params: {'max_features': 1, 'n_estimators': 100, 'learning_rate': 0.5, 'max_depth': 5, 'subsample': 0.2},\n",
       " mean: 0.56678, std: 0.11519, params: {'max_features': 1, 'n_estimators': 100, 'learning_rate': 0.8, 'max_depth': 4, 'subsample': 0.2},\n",
       " mean: 0.56678, std: 0.06301, params: {'max_features': 0.5, 'n_estimators': 500, 'learning_rate': 0.8, 'max_depth': 5, 'subsample': 0.2},\n",
       " mean: 0.56678, std: 0.08353, params: {'max_features': 0.5, 'n_estimators': 100, 'learning_rate': 1, 'max_depth': 7, 'subsample': 0.2},\n",
       " mean: 0.56678, std: 0.06543, params: {'max_features': 1, 'n_estimators': 100, 'learning_rate': 1, 'max_depth': 7, 'subsample': 0.8},\n",
       " mean: 0.56566, std: 0.06063, params: {'max_features': 0.5, 'n_estimators': 500, 'learning_rate': 1, 'max_depth': 8, 'subsample': 0.2},\n",
       " mean: 0.56453, std: 0.08815, params: {'max_features': 0.5, 'n_estimators': 100, 'learning_rate': 0.5, 'max_depth': 7, 'subsample': 0.2},\n",
       " mean: 0.56341, std: 0.08054, params: {'max_features': 1, 'n_estimators': 100, 'learning_rate': 0.8, 'max_depth': 8, 'subsample': 0.5},\n",
       " mean: 0.56341, std: 0.12507, params: {'max_features': 1, 'n_estimators': 100, 'learning_rate': 1, 'max_depth': 4, 'subsample': 0.2},\n",
       " mean: 0.56229, std: 0.04405, params: {'max_features': 1, 'n_estimators': 100, 'learning_rate': 0.8, 'max_depth': 8, 'subsample': 0.2},\n",
       " mean: 0.56229, std: 0.07932, params: {'max_features': 0.5, 'n_estimators': 500, 'learning_rate': 1, 'max_depth': 7, 'subsample': 0.2},\n",
       " mean: 0.56117, std: 0.15305, params: {'max_features': 0.5, 'n_estimators': 100, 'learning_rate': 1, 'max_depth': 4, 'subsample': 0.2},\n",
       " mean: 0.56004, std: 0.07028, params: {'max_features': 0.5, 'n_estimators': 500, 'learning_rate': 0.5, 'max_depth': 7, 'subsample': 0.5},\n",
       " mean: 0.55892, std: 0.12576, params: {'max_features': 1, 'n_estimators': 500, 'learning_rate': 0.5, 'max_depth': 6, 'subsample': 0.5},\n",
       " mean: 0.55892, std: 0.07277, params: {'max_features': 0.5, 'n_estimators': 500, 'learning_rate': 0.5, 'max_depth': 8, 'subsample': 0.2},\n",
       " mean: 0.55892, std: 0.05914, params: {'max_features': 1, 'n_estimators': 100, 'learning_rate': 0.8, 'max_depth': 7, 'subsample': 0.5},\n",
       " mean: 0.55892, std: 0.16021, params: {'max_features': 0.5, 'n_estimators': 100, 'learning_rate': 1, 'max_depth': 3, 'subsample': 0.5},\n",
       " mean: 0.55892, std: 0.09328, params: {'max_features': 0.5, 'n_estimators': 100, 'learning_rate': 1, 'max_depth': 6, 'subsample': 0.2},\n",
       " mean: 0.55780, std: 0.11255, params: {'max_features': 1, 'n_estimators': 500, 'learning_rate': 0.5, 'max_depth': 4, 'subsample': 0.5},\n",
       " mean: 0.55780, std: 0.08885, params: {'max_features': 1, 'n_estimators': 500, 'learning_rate': 0.8, 'max_depth': 4, 'subsample': 0.8},\n",
       " mean: 0.55556, std: 0.08006, params: {'max_features': 1, 'n_estimators': 500, 'learning_rate': 0.5, 'max_depth': 7, 'subsample': 0.5},\n",
       " mean: 0.55556, std: 0.03151, params: {'max_features': 0.5, 'n_estimators': 500, 'learning_rate': 0.8, 'max_depth': 7, 'subsample': 0.5},\n",
       " mean: 0.55443, std: 0.08508, params: {'max_features': 0.5, 'n_estimators': 100, 'learning_rate': 0.8, 'max_depth': 8, 'subsample': 0.8},\n",
       " mean: 0.55443, std: 0.04904, params: {'max_features': 1, 'n_estimators': 500, 'learning_rate': 0.8, 'max_depth': 8, 'subsample': 0.2},\n",
       " mean: 0.55443, std: 0.06079, params: {'max_features': 0.5, 'n_estimators': 100, 'learning_rate': 1, 'max_depth': 7, 'subsample': 0.8},\n",
       " mean: 0.55331, std: 0.09625, params: {'max_features': 1, 'n_estimators': 500, 'learning_rate': 0.8, 'max_depth': 6, 'subsample': 0.5},\n",
       " mean: 0.55331, std: 0.14395, params: {'max_features': 1, 'n_estimators': 500, 'learning_rate': 1, 'max_depth': 4, 'subsample': 0.8},\n",
       " mean: 0.55331, std: 0.06858, params: {'max_features': 0.5, 'n_estimators': 100, 'learning_rate': 1, 'max_depth': 6, 'subsample': 0.8},\n",
       " mean: 0.55331, std: 0.06750, params: {'max_features': 1, 'n_estimators': 500, 'learning_rate': 1, 'max_depth': 7, 'subsample': 0.8},\n",
       " mean: 0.55219, std: 0.06173, params: {'max_features': 0.5, 'n_estimators': 100, 'learning_rate': 0.8, 'max_depth': 8, 'subsample': 0.2},\n",
       " mean: 0.55107, std: 0.11364, params: {'max_features': 1, 'n_estimators': 500, 'learning_rate': 1, 'max_depth': 4, 'subsample': 0.5},\n",
       " mean: 0.55107, std: 0.03743, params: {'max_features': 1, 'n_estimators': 500, 'learning_rate': 1, 'max_depth': 8, 'subsample': 0.2},\n",
       " mean: 0.54994, std: 0.05811, params: {'max_features': 0.5, 'n_estimators': 100, 'learning_rate': 1, 'max_depth': 8, 'subsample': 0.5},\n",
       " mean: 0.54882, std: 0.06142, params: {'max_features': 1, 'n_estimators': 500, 'learning_rate': 0.8, 'max_depth': 7, 'subsample': 0.2},\n",
       " mean: 0.54882, std: 0.10123, params: {'max_features': 0.5, 'n_estimators': 100, 'learning_rate': 1, 'max_depth': 4, 'subsample': 0.5},\n",
       " mean: 0.54882, std: 0.11730, params: {'max_features': 1, 'n_estimators': 500, 'learning_rate': 1, 'max_depth': 4, 'subsample': 0.2},\n",
       " mean: 0.54658, std: 0.08034, params: {'max_features': 0.5, 'n_estimators': 100, 'learning_rate': 0.8, 'max_depth': 5, 'subsample': 0.5},\n",
       " mean: 0.54545, std: 0.14003, params: {'max_features': 0.5, 'n_estimators': 500, 'learning_rate': 0.5, 'max_depth': 6, 'subsample': 0.8},\n",
       " mean: 0.54545, std: 0.06103, params: {'max_features': 0.5, 'n_estimators': 500, 'learning_rate': 1, 'max_depth': 7, 'subsample': 0.8},\n",
       " mean: 0.54433, std: 0.11614, params: {'max_features': 0.5, 'n_estimators': 500, 'learning_rate': 1, 'max_depth': 4, 'subsample': 0.5},\n",
       " mean: 0.54321, std: 0.11983, params: {'max_features': 0.5, 'n_estimators': 500, 'learning_rate': 0.5, 'max_depth': 4, 'subsample': 0.5},\n",
       " mean: 0.54209, std: 0.05378, params: {'max_features': 0.5, 'n_estimators': 500, 'learning_rate': 0.5, 'max_depth': 7, 'subsample': 0.2},\n",
       " mean: 0.54209, std: 0.09099, params: {'max_features': 1, 'n_estimators': 500, 'learning_rate': 0.5, 'max_depth': 8, 'subsample': 0.5},\n",
       " mean: 0.53984, std: 0.07105, params: {'max_features': 0.5, 'n_estimators': 100, 'learning_rate': 0.5, 'max_depth': 5, 'subsample': 0.2},\n",
       " mean: 0.53984, std: 0.07167, params: {'max_features': 0.5, 'n_estimators': 500, 'learning_rate': 0.5, 'max_depth': 8, 'subsample': 0.5},\n",
       " mean: 0.53984, std: 0.12385, params: {'max_features': 0.5, 'n_estimators': 100, 'learning_rate': 0.8, 'max_depth': 3, 'subsample': 0.2},\n",
       " mean: 0.53872, std: 0.07992, params: {'max_features': 0.5, 'n_estimators': 500, 'learning_rate': 0.8, 'max_depth': 7, 'subsample': 0.8},\n",
       " mean: 0.53535, std: 0.13250, params: {'max_features': 0.5, 'n_estimators': 500, 'learning_rate': 1, 'max_depth': 3, 'subsample': 0.2},\n",
       " mean: 0.53423, std: 0.13547, params: {'max_features': 1, 'n_estimators': 100, 'learning_rate': 0.8, 'max_depth': 6, 'subsample': 0.5},\n",
       " mean: 0.53423, std: 0.08401, params: {'max_features': 0.5, 'n_estimators': 500, 'learning_rate': 1, 'max_depth': 7, 'subsample': 0.5},\n",
       " mean: 0.53311, std: 0.11603, params: {'max_features': 0.5, 'n_estimators': 500, 'learning_rate': 0.8, 'max_depth': 4, 'subsample': 0.8},\n",
       " mean: 0.53311, std: 0.07705, params: {'max_features': 0.5, 'n_estimators': 500, 'learning_rate': 1, 'max_depth': 8, 'subsample': 0.5},\n",
       " mean: 0.53199, std: 0.07869, params: {'max_features': 0.5, 'n_estimators': 500, 'learning_rate': 0.8, 'max_depth': 7, 'subsample': 0.2},\n",
       " mean: 0.53086, std: 0.08232, params: {'max_features': 0.5, 'n_estimators': 500, 'learning_rate': 0.5, 'max_depth': 6, 'subsample': 0.2},\n",
       " mean: 0.53086, std: 0.12281, params: {'max_features': 0.5, 'n_estimators': 500, 'learning_rate': 0.8, 'max_depth': 3, 'subsample': 0.2},\n",
       " mean: 0.53086, std: 0.04956, params: {'max_features': 0.5, 'n_estimators': 500, 'learning_rate': 0.8, 'max_depth': 5, 'subsample': 0.5},\n",
       " mean: 0.52974, std: 0.15291, params: {'max_features': 0.5, 'n_estimators': 100, 'learning_rate': 0.5, 'max_depth': 4, 'subsample': 0.2},\n",
       " mean: 0.52862, std: 0.17126, params: {'max_features': 0.5, 'n_estimators': 500, 'learning_rate': 1, 'max_depth': 4, 'subsample': 0.8},\n",
       " mean: 0.52637, std: 0.10389, params: {'max_features': 1, 'n_estimators': 500, 'learning_rate': 0.5, 'max_depth': 5, 'subsample': 0.5},\n",
       " mean: 0.52637, std: 0.08091, params: {'max_features': 0.5, 'n_estimators': 100, 'learning_rate': 0.5, 'max_depth': 6, 'subsample': 0.2},\n",
       " mean: 0.52637, std: 0.10976, params: {'max_features': 0.5, 'n_estimators': 100, 'learning_rate': 0.5, 'max_depth': 7, 'subsample': 0.5},\n",
       " mean: 0.52637, std: 0.11396, params: {'max_features': 0.5, 'n_estimators': 500, 'learning_rate': 0.8, 'max_depth': 3, 'subsample': 0.5},\n",
       " mean: 0.52525, std: 0.15901, params: {'max_features': 1, 'n_estimators': 100, 'learning_rate': 1, 'max_depth': 5, 'subsample': 0.8},\n",
       " mean: 0.52189, std: 0.12027, params: {'max_features': 0.5, 'n_estimators': 500, 'learning_rate': 0.5, 'max_depth': 5, 'subsample': 0.2},\n",
       " mean: 0.52076, std: 0.07470, params: {'max_features': 1, 'n_estimators': 500, 'learning_rate': 0.5, 'max_depth': 7, 'subsample': 0.2},\n",
       " mean: 0.52076, std: 0.05949, params: {'max_features': 0.5, 'n_estimators': 100, 'learning_rate': 1, 'max_depth': 5, 'subsample': 0.2},\n",
       " mean: 0.51964, std: 0.13855, params: {'max_features': 0.5, 'n_estimators': 500, 'learning_rate': 0.8, 'max_depth': 5, 'subsample': 0.8},\n",
       " mean: 0.51740, std: 0.08709, params: {'max_features': 0.5, 'n_estimators': 100, 'learning_rate': 0.8, 'max_depth': 5, 'subsample': 0.2},\n",
       " mean: 0.51740, std: 0.13785, params: {'max_features': 0.5, 'n_estimators': 500, 'learning_rate': 1, 'max_depth': 5, 'subsample': 0.8},\n",
       " mean: 0.51178, std: 0.07718, params: {'max_features': 1, 'n_estimators': 500, 'learning_rate': 0.8, 'max_depth': 3, 'subsample': 0.5},\n",
       " mean: 0.51066, std: 0.05978, params: {'max_features': 1, 'n_estimators': 100, 'learning_rate': 0.5, 'max_depth': 7, 'subsample': 0.2},\n",
       " mean: 0.50842, std: 0.07824, params: {'max_features': 1, 'n_estimators': 500, 'learning_rate': 1, 'max_depth': 3, 'subsample': 0.2},\n",
       " mean: 0.50393, std: 0.08263, params: {'max_features': 0.5, 'n_estimators': 100, 'learning_rate': 1, 'max_depth': 5, 'subsample': 0.5},\n",
       " mean: 0.49383, std: 0.13372, params: {'max_features': 1, 'n_estimators': 500, 'learning_rate': 0.5, 'max_depth': 4, 'subsample': 0.2},\n",
       " mean: 0.49046, std: 0.13882, params: {'max_features': 1, 'n_estimators': 500, 'learning_rate': 1, 'max_depth': 3, 'subsample': 0.5},\n",
       " mean: 0.47924, std: 0.11987, params: {'max_features': 1, 'n_estimators': 100, 'learning_rate': 1, 'max_depth': 5, 'subsample': 0.2},\n",
       " mean: 0.47587, std: 0.06424, params: {'max_features': 1, 'n_estimators': 100, 'learning_rate': 1, 'max_depth': 7, 'subsample': 0.5},\n",
       " mean: 0.46689, std: 0.04913, params: {'max_features': 0.5, 'n_estimators': 500, 'learning_rate': 0.5, 'max_depth': 5, 'subsample': 0.5},\n",
       " mean: 0.45342, std: 0.08633, params: {'max_features': 1, 'n_estimators': 500, 'learning_rate': 0.5, 'max_depth': 5, 'subsample': 0.2},\n",
       " mean: 0.45342, std: 0.06048, params: {'max_features': 0.5, 'n_estimators': 500, 'learning_rate': 0.5, 'max_depth': 6, 'subsample': 0.5},\n",
       " mean: 0.44220, std: 0.04533, params: {'max_features': 1, 'n_estimators': 100, 'learning_rate': 1, 'max_depth': 3, 'subsample': 0.2}]"
      ]
     },
     "execution_count": 35,
     "metadata": {},
     "output_type": "execute_result"
    }
   ],
   "source": [
    "sorted(gs.grid_scores_, key=lambda x: x.mean_validation_score, reverse=True)"
   ]
  },
  {
   "cell_type": "markdown",
   "metadata": {},
   "source": [
    "**Run model using recommended hyper parameters**"
   ]
  },
  {
   "cell_type": "code",
   "execution_count": null,
   "metadata": {
    "collapsed": false
   },
   "outputs": [],
   "source": [
    "gb = GradientBoostingClassifier(learning_rate=0.1, max_features=0.5, n_estimators=500, max_depth=3, subsample=0.5)\n",
    "gb.fit(X, y)\n",
    "y_test_predicted = gb.predict(X_test)\n",
    "predictions = pd.DataFrame(y_test_predicted)\n",
    "submission = pd.concat([test_ids, predictions], axis=1)\n",
    "submission.columns = ['PassengerId', 'Survived']\n",
    "submission['Survived'] = submission['Survived'].astype(int)\n",
    "submission.to_csv('submission13.csv', sep = ',', index = False)"
   ]
  },
  {
   "cell_type": "code",
   "execution_count": null,
   "metadata": {
    "collapsed": true
   },
   "outputs": [],
   "source": []
  }
 ],
 "metadata": {
  "kernelspec": {
   "display_name": "Python 2",
   "language": "python",
   "name": "python2"
  },
  "language_info": {
   "codemirror_mode": {
    "name": "ipython",
    "version": 2
   },
   "file_extension": ".py",
   "mimetype": "text/x-python",
   "name": "python",
   "nbconvert_exporter": "python",
   "pygments_lexer": "ipython2",
   "version": "2.7.10"
  }
 },
 "nbformat": 4,
 "nbformat_minor": 0
}
