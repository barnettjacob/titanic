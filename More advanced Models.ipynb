{
 "cells": [
  {
   "cell_type": "code",
   "execution_count": 1,
   "metadata": {
    "collapsed": false
   },
   "outputs": [
    {
     "name": "stdout",
     "output_type": "stream",
     "text": [
      "Populating the interactive namespace from numpy and matplotlib\n"
     ]
    }
   ],
   "source": [
    "import numpy as np\n",
    "import pandas as pd\n",
    "from sklearn import cross_validation, tree, metrics\n",
    "from sklearn.ensemble import RandomForestClassifier, AdaBoostClassifier, ExtraTreesClassifier\n",
    "from sklearn.metrics import accuracy_score\n",
    "from sklearn.linear_model import LogisticRegression\n",
    "from sklearn.ensemble.weight_boosting import AdaBoostClassifier\n",
    "from sklearn.externals.six.moves import xrange\n",
    "from sklearn.tree import DecisionTreeClassifier\n",
    "from sklearn.metrics import confusion_matrix\n",
    "import seaborn as sns\n",
    "%pylab inline\n",
    "from sklearn import cross_validation, datasets, svm\n",
    "from sklearn.cross_validation import KFold, train_test_split\n",
    "from sklearn.grid_search import GridSearchCV\n",
    "from sklearn.ensemble import GradientBoostingClassifier"
   ]
  },
  {
   "cell_type": "markdown",
   "metadata": {},
   "source": [
    "**Start by extracting a larger feature set**"
   ]
  },
  {
   "cell_type": "code",
   "execution_count": 2,
   "metadata": {
    "collapsed": true
   },
   "outputs": [],
   "source": [
    "dataset = pd.read_csv('proc_data.csv')\n",
    "dataset['id'] = dataset['id'].astype(int)"
   ]
  },
  {
   "cell_type": "code",
   "execution_count": 3,
   "metadata": {
    "collapsed": true
   },
   "outputs": [],
   "source": [
    "train = dataset.query('type == \"train\"')         \n",
    "test = dataset.query('type == \"test\"')  "
   ]
  },
  {
   "cell_type": "code",
   "execution_count": 4,
   "metadata": {
    "collapsed": false
   },
   "outputs": [],
   "source": [
    "features = ['age', 'class', 'fare', 'family_size', 'embarked_at_Q', 'embarked_at_S', 'female', 'in_cabin', 'Master', 'Miss', 'Mrs']\n",
    "X = train[['age', 'class', 'fare',  'family_size', 'embarked_at_Q', 'embarked_at_S', 'female', 'in_cabin', 'Master', 'Miss', 'Mrs']].values\n",
    "y = train['survived'].values"
   ]
  },
  {
   "cell_type": "code",
   "execution_count": 5,
   "metadata": {
    "collapsed": true
   },
   "outputs": [],
   "source": [
    "X_test = test[['age', 'class', 'fare', 'family_size', 'embarked_at_Q', 'embarked_at_S', 'female', 'in_cabin', 'Master', 'Miss', 'Mrs']].values\n",
    "test_ids = test['id']\n",
    "test_ids = pd.DataFrame(test_ids.reset_index()['id'])"
   ]
  },
  {
   "cell_type": "markdown",
   "metadata": {},
   "source": [
    "**Logistic Regression with all features**"
   ]
  },
  {
   "cell_type": "code",
   "execution_count": 6,
   "metadata": {
    "collapsed": false
   },
   "outputs": [
    {
     "name": "stdout",
     "output_type": "stream",
     "text": [
      "Out of fold prediction accuracy: 0.83\n"
     ]
    }
   ],
   "source": [
    "log_reg = LogisticRegression(penalty = 'l1', C = 2)\n",
    "scores = cross_validation.cross_val_score(log_reg, X, y, cv=5)\n",
    "scores.mean()\n",
    "print 'Out of fold prediction accuracy: ' + str(round(average(scores), 2))"
   ]
  },
  {
   "cell_type": "code",
   "execution_count": 8,
   "metadata": {
    "collapsed": true
   },
   "outputs": [],
   "source": [
    "log_reg = LogisticRegression(penalty = 'l1')\n",
    "log_reg.fit(X, y)\n",
    "y_predicted = log_reg.predict(X)\n",
    "y_test_predicted = log_reg.predict(X_test)\n",
    "predictions = pd.DataFrame(y_test_predicted)\n",
    "submission = pd.concat([test_ids, predictions], axis=1)\n",
    "submission.columns = ['PassengerId', 'Survived']\n",
    "submission['Survived'] = submission['Survived'].astype(int)\n",
    "submission.to_csv('log_reg_2.csv', sep = ',', index = False)"
   ]
  },
  {
   "cell_type": "code",
   "execution_count": 9,
   "metadata": {
    "collapsed": false
   },
   "outputs": [
    {
     "name": "stdout",
     "output_type": "stream",
     "text": [
      "[[485  64]\n",
      " [ 81 261]]\n"
     ]
    }
   ],
   "source": [
    "cm = confusion_matrix(y, y_predicted)\n",
    "print(cm)"
   ]
  },
  {
   "cell_type": "markdown",
   "metadata": {},
   "source": [
    "**Attempt to find optimal parameters with Grid Search**"
   ]
  },
  {
   "cell_type": "code",
   "execution_count": null,
   "metadata": {
    "collapsed": false
   },
   "outputs": [],
   "source": [
    "%%time\n",
    "log_reg = LogisticRegression()\n",
    "params = {\n",
    "    'C': [0.5, 1, 2],\n",
    "    'penalty': ['l1', 'l2']\n",
    "}\n",
    "gs = GridSearchCV(log_reg, params, cv=5, scoring='accuracy', n_jobs=-1)\n",
    "gs.fit(X, y)"
   ]
  },
  {
   "cell_type": "code",
   "execution_count": null,
   "metadata": {
    "collapsed": false
   },
   "outputs": [],
   "source": [
    "sorted(gs.grid_scores_, key=lambda x: x.mean_validation_score, reverse=True)"
   ]
  },
  {
   "cell_type": "markdown",
   "metadata": {},
   "source": [
    "**Extra Trees Classifier**"
   ]
  },
  {
   "cell_type": "code",
   "execution_count": 18,
   "metadata": {
    "collapsed": false
   },
   "outputs": [
    {
     "name": "stdout",
     "output_type": "stream",
     "text": [
      "Out of fold prediction accuracy: 0.82\n"
     ]
    }
   ],
   "source": [
    "cv = KFold(n = X.shape[0], n_folds = 3, random_state =5)\n",
    "ext = ExtraTreesClassifier(n_estimators=1000, max_depth=5)\n",
    "scores = cross_validation.cross_val_score(ext, X, y, cv=cv)\n",
    "print 'Out of fold prediction accuracy: ' + str(round(average(scores), 2))"
   ]
  },
  {
   "cell_type": "code",
   "execution_count": null,
   "metadata": {
    "collapsed": false
   },
   "outputs": [],
   "source": [
    "y_test_predicted = ext.predict(X_test)\n",
    "predictions = pd.DataFrame(y_test_predicted)\n",
    "submission = pd.concat([test_ids, predictions], axis=1)\n",
    "submission.columns = ['PassengerId', 'Survived']\n",
    "submission['Survived'] = submission['Survived'].astype(int)\n",
    "submission.to_csv('etc.csv', sep = ',', index = False)"
   ]
  },
  {
   "cell_type": "markdown",
   "metadata": {
    "collapsed": true
   },
   "source": [
    "**Random forest**"
   ]
  },
  {
   "cell_type": "code",
   "execution_count": 17,
   "metadata": {
    "collapsed": false
   },
   "outputs": [
    {
     "name": "stdout",
     "output_type": "stream",
     "text": [
      "0.856341189675\n",
      "0.828282828283\n"
     ]
    }
   ],
   "source": [
    "rnd = RandomForestClassifier(n_estimators = 1000, max_depth = 5, oob_score=True)\n",
    "rnd.fit(X, y)\n",
    "y_predicted = rnd.predict(X)\n",
    "print accuracy_score(y, y_predicted)\n",
    "print rnd.oob_score_"
   ]
  },
  {
   "cell_type": "code",
   "execution_count": 21,
   "metadata": {
    "collapsed": false
   },
   "outputs": [
    {
     "name": "stdout",
     "output_type": "stream",
     "text": [
      "[[515  34]\n",
      " [ 94 248]]\n"
     ]
    }
   ],
   "source": [
    "cm = confusion_matrix(y, y_predicted)\n",
    "print(cm)"
   ]
  },
  {
   "cell_type": "code",
   "execution_count": 23,
   "metadata": {
    "collapsed": false
   },
   "outputs": [
    {
     "data": {
      "image/png": "[encoded data removed]",
      "text/plain": [
       "<matplotlib.figure.Figure at 0x1102ea550>"
      ]
     },
     "metadata": {},
     "output_type": "display_data"
    }
   ],
   "source": [
    "def plot_confusion(cm, target_names = ['survived', 'not survived'],\n",
    "                   title='Confusion matrix'):\n",
    "    plt.imshow(cm, interpolation='nearest', cmap=plt.cm.Blues)\n",
    "    plt.title(title)\n",
    "    plt.colorbar()\n",
    "\n",
    "    tick_marks = np.arange(len(target_names))\n",
    "    plt.xticks(tick_marks, target_names, rotation=60)\n",
    "    plt.yticks(tick_marks, target_names)\n",
    "    plt.ylabel('True label')\n",
    "    plt.xlabel('Predicted label')\n",
    "    # Convenience function to adjust plot parameters for a clear layout.\n",
    "    plt.tight_layout()\n",
    "\n",
    "plt.figure(figsize=(15, 6))\n",
    "plot_confusion(cm)"
   ]
  },
  {
   "cell_type": "code",
   "execution_count": 49,
   "metadata": {
    "collapsed": true
   },
   "outputs": [],
   "source": [
    "y_test_predicted = rnd.predict(X_test)\n",
    "predictions = pd.DataFrame(y_test_predicted)\n",
    "submission = pd.concat([test_ids, predictions], axis=1)\n",
    "submission.columns = ['PassengerId', 'Survived']\n",
    "submission['Survived'] = submission['Survived'].astype(int)\n",
    "submission.to_csv('rf_all_features.csv', sep = ',', index = False)"
   ]
  },
  {
   "cell_type": "code",
   "execution_count": 50,
   "metadata": {
    "collapsed": false
   },
   "outputs": [],
   "source": [
    "x = pd.concat([pd.DataFrame(features), pd.DataFrame(rnd.feature_importances_)], axis = 1)\n",
    "x.columns = ['feature', 'importance']"
   ]
  },
  {
   "cell_type": "code",
   "execution_count": 51,
   "metadata": {
    "collapsed": false
   },
   "outputs": [
    {
     "data": {
      "text/plain": [
       "<matplotlib.axes._subplots.AxesSubplot at 0x10e773810>"
      ]
     },
     "execution_count": 51,
     "metadata": {},
     "output_type": "execute_result"
    },
    {
     "data": {
      "image/png": "[encoded data removed]",
      "text/plain": [
       "<matplotlib.figure.Figure at 0x10c94d8d0>"
      ]
     },
     "metadata": {},
     "output_type": "display_data"
    }
   ],
   "source": [
    "plt.figure(figsize=(15, 6))\n",
    "sns.barplot(x = 'importance', y = 'feature', data = x.sort('importance', ascending=0))"
   ]
  },
  {
   "cell_type": "code",
   "execution_count": 15,
   "metadata": {
    "collapsed": false
   },
   "outputs": [],
   "source": [
    "from sklearn.preprocessing import StandardScaler\n",
    "X = StandardScaler().fit_transform(X)\n",
    "X_test = StandardScaler().fit_transform(X_test)"
   ]
  },
  {
   "cell_type": "code",
   "execution_count": 16,
   "metadata": {
    "collapsed": false
   },
   "outputs": [
    {
     "name": "stdout",
     "output_type": "stream",
     "text": [
      "0.855218855219\n"
     ]
    }
   ],
   "source": [
    "rnd = RandomForestClassifier(n_estimators = 1000, max_depth = 5)\n",
    "rnd.fit(X, y)\n",
    "y_predicted = rnd.predict(X)\n",
    "print accuracy_score(y, y_predicted)"
   ]
  },
  {
   "cell_type": "code",
   "execution_count": 17,
   "metadata": {
    "collapsed": true
   },
   "outputs": [],
   "source": [
    "y_test_predicted = rnd.predict(X_test)\n",
    "predictions = pd.DataFrame(y_test_predicted)\n",
    "submission = pd.concat([test_ids, predictions], axis=1)\n",
    "submission.columns = ['PassengerId', 'Survived']\n",
    "submission['Survived'] = submission['Survived'].astype(int)\n",
    "submission.to_csv('rf_scaled.csv', sep = ',', index = False)"
   ]
  },
  {
   "cell_type": "markdown",
   "metadata": {},
   "source": [
    "**Ada Boost**"
   ]
  },
  {
   "cell_type": "code",
   "execution_count": 19,
   "metadata": {
    "collapsed": false
   },
   "outputs": [
    {
     "name": "stdout",
     "output_type": "stream",
     "text": [
      "Out of fold prediction accuracy: 0.79\n"
     ]
    }
   ],
   "source": [
    "scores = [] \n",
    "ada = AdaBoostClassifier(base_estimator=tree.DecisionTreeClassifier(), n_estimators=1000, learning_rate= 1.0, algorithm='SAMME.R', random_state=10)\n",
    "scores = cross_validation.cross_val_score(ada, X, y, cv=5)\n",
    "print 'Out of fold prediction accuracy: ' + str(round(average(scores), 2))"
   ]
  },
  {
   "cell_type": "code",
   "execution_count": 19,
   "metadata": {
    "collapsed": false
   },
   "outputs": [],
   "source": [
    "ada.fit(X, y)\n",
    "y_test_predicted = ada.predict(X_test)\n",
    "predictions = pd.DataFrame(y_test_predicted)\n",
    "submission = pd.concat([test_ids, predictions], axis=1)\n",
    "submission.columns = ['PassengerId', 'Survived']\n",
    "submission['Survived'] = submission['Survived'].astype(int)\n",
    "submission.to_csv('adaboost.csv', sep = ',', index = False)"
   ]
  },
  {
   "cell_type": "markdown",
   "metadata": {},
   "source": [
    "**Stacking Of Models**\n",
    "\n",
    "Simple stacking of the predictions of 5 different classifiers."
   ]
  },
  {
   "cell_type": "code",
   "execution_count": 6,
   "metadata": {
    "collapsed": false
   },
   "outputs": [],
   "source": [
    "log_reg = LogisticRegression(penalty = 'l1', C = 2)\n",
    "ext = ExtraTreesClassifier(n_estimators=1000, max_depth=5)\n",
    "ada = AdaBoostClassifier(base_estimator=tree.DecisionTreeClassifier(), n_estimators=1000, learning_rate= 1.0, algorithm='SAMME.R', random_state=10)\n",
    "rnd = RandomForestClassifier(n_estimators = 1000, max_depth = 5, oob_score=True)\n",
    "gb = GradientBoostingClassifier(learning_rate=0.1, max_features=0.5, n_estimators=500, max_depth=3, subsample=0.5)\n",
    "\n",
    "theList = [log_reg, ext, ada, rnd, gb]\n",
    "\n",
    "outputs = test_ids\n",
    "\n",
    "for model in theList:\n",
    "    model.fit(X, y)\n",
    "    y_test_predicted = model.predict(X_test)\n",
    "    predictions = pd.DataFrame(y_test_predicted)\n",
    "    outputs = pd.concat([outputs, predictions], axis = 1)\n",
    "\n",
    "outputs.columns = ['PassengerId', 'log_reg', 'ext', 'ada', 'rnd', 'gb']"
   ]
  },
  {
   "cell_type": "code",
   "execution_count": 7,
   "metadata": {
    "collapsed": false
   },
   "outputs": [],
   "source": [
    "def theVote(row):\n",
    "    if row['log_reg'] + row['ext'] + row['ada'] + (row['rnd']*3) + row['gb'] >= 4:\n",
    "        return 1\n",
    "    else:\n",
    "        return 0\n",
    "\n",
    "outputs['Survived'] = outputs.apply(theVote, axis = 1)\n",
    "outputs[['PassengerId', 'Survived']].to_csv('stacked_1_weighted.csv', sep = ',', index = False)"
   ]
  },
  {
   "cell_type": "markdown",
   "metadata": {},
   "source": [
    "Use predicted probabilities and called Survived if total is greater than 2.5"
   ]
  },
  {
   "cell_type": "code",
   "execution_count": 9,
   "metadata": {
    "collapsed": false
   },
   "outputs": [],
   "source": [
    "log_reg = LogisticRegression(penalty = 'l1', C = 2)\n",
    "ext = ExtraTreesClassifier(n_estimators=1000, max_depth=5)\n",
    "ada = AdaBoostClassifier(base_estimator=tree.DecisionTreeClassifier(), n_estimators=1000, learning_rate= 1.0, algorithm='SAMME.R', random_state=10)\n",
    "rnd = RandomForestClassifier(n_estimators = 1000, max_depth = 5, oob_score=True)\n",
    "gb = GradientBoostingClassifier(learning_rate=0.1, max_features=0.5, n_estimators=500, max_depth=3, subsample=0.5)\n",
    "\n",
    "theList = [log_reg, ext, ada, rnd, gb]\n",
    "\n",
    "outputs = test_ids\n",
    "\n",
    "for model in theList:\n",
    "    model.fit(X, y)\n",
    "    y_test_predicted = model.predict_proba(X_test)\n",
    "    predictions = pd.DataFrame(y_test_predicted)\n",
    "    outputs = pd.concat([outputs, predictions], axis = 1)\n",
    "\n",
    "outputs.columns = ['PassengerId', 'log_reg_0', 'log_reg_1', 'ext_0', 'ext_1', 'ada_0','ada_1', 'rnd_0', 'rnd_1','gb_0', 'gb_1']"
   ]
  },
  {
   "cell_type": "code",
   "execution_count": 13,
   "metadata": {
    "collapsed": false
   },
   "outputs": [],
   "source": [
    "def theVote(row):\n",
    "    if row['log_reg_1'] + row['ext_1'] + row['ada_1'] + (row['rnd_1']*3) + row['gb_1'] >= 3.0:\n",
    "        return 1\n",
    "    else:\n",
    "        return 0\n",
    "\n",
    "outputs['Survived'] = outputs.apply(theVote, axis = 1)\n",
    "outputs[['PassengerId', 'Survived']].to_csv('stacked_2_weighted.csv', sep = ',', index = False)"
   ]
  },
  {
   "cell_type": "markdown",
   "metadata": {},
   "source": [
    "**************************************************************"
   ]
  },
  {
   "cell_type": "markdown",
   "metadata": {},
   "source": [
    "Create probablistic predictions on training set then use logistic regression to predict test set"
   ]
  },
  {
   "cell_type": "code",
   "execution_count": 44,
   "metadata": {
    "collapsed": false
   },
   "outputs": [],
   "source": [
    "log_reg = LogisticRegression(penalty = 'l1', C = 2)\n",
    "ext = ExtraTreesClassifier(n_estimators=1000, max_depth=5)\n",
    "ada = AdaBoostClassifier(base_estimator=tree.DecisionTreeClassifier(), n_estimators=1000, learning_rate= 1.0, algorithm='SAMME.R', random_state=10)\n",
    "rnd = RandomForestClassifier(n_estimators = 1000, max_depth = 5, oob_score=True)\n",
    "gb = GradientBoostingClassifier(learning_rate=0.1, max_features=0.5, n_estimators=500, max_depth=3, subsample=0.5)\n",
    "\n",
    "theList = [log_reg, ext, ada, rnd, gb]\n",
    "\n",
    "outputs = train['id']\n",
    "outputs_test = test['id']\n",
    "\n",
    "for model in theList:\n",
    "    model.fit(X, y)\n",
    "    y_train_predicted = model.predict_proba(X)\n",
    "    y_test_predicted = model.predict_proba(X_test)\n",
    "    predictions = pd.DataFrame(y_train_predicted)\n",
    "    predictions_test = pd.DataFrame(y_test_predicted)\n",
    "    outputs = pd.concat([outputs, predictions], axis = 1)\n",
    "    outputs_test = pd.concat([outputs_test, predictions_test], axis = 1)\n",
    "\n",
    "outputs.columns = ['PassengerId', 'log_reg_0', 'log_reg_1', 'ext_0', 'ext_1', 'ada_0','ada_1', 'rnd_0', 'rnd_1','gb_0', 'gb_1']\n",
    "outputs_test.columns = ['PassengerId', 'log_reg_0', 'log_reg_1', 'ext_0', 'ext_1', 'ada_0','ada_1', 'rnd_0', 'rnd_1','gb_0', 'gb_1']\n",
    "\n",
    "#outputs = pd.concat([outputs, train['survived'].reset_index])"
   ]
  },
  {
   "cell_type": "code",
   "execution_count": null,
   "metadata": {
    "collapsed": false
   },
   "outputs": [],
   "source": [
    "X_meta = outputs [['log_reg_1', 'ext_1', 'ada_1', 'rnd_1', 'gb_1']]"
   ]
  },
  {
   "cell_type": "code",
   "execution_count": 14,
   "metadata": {
    "collapsed": false
   },
   "outputs": [
    {
     "ename": "NameError",
     "evalue": "name 'X_meta' is not defined",
     "output_type": "error",
     "traceback": [
      "\u001b[0;31m---------------------------------------------------------------------------\u001b[0m",
      "\u001b[0;31mNameError\u001b[0m                                 Traceback (most recent call last)",
      "\u001b[0;32m<ipython-input-14-d4f9135cd997>\u001b[0m in \u001b[0;36m<module>\u001b[0;34m()\u001b[0m\n\u001b[1;32m      1\u001b[0m \u001b[0mmeta_log_reg\u001b[0m \u001b[0;34m=\u001b[0m \u001b[0mLogisticRegression\u001b[0m\u001b[0;34m(\u001b[0m\u001b[0;34m)\u001b[0m\u001b[0;34m\u001b[0m\u001b[0m\n\u001b[0;32m----> 2\u001b[0;31m \u001b[0mmeta_log_reg\u001b[0m\u001b[0;34m.\u001b[0m\u001b[0mfit\u001b[0m\u001b[0;34m(\u001b[0m\u001b[0mX_meta\u001b[0m\u001b[0;34m,\u001b[0m \u001b[0my\u001b[0m\u001b[0;34m)\u001b[0m\u001b[0;34m\u001b[0m\u001b[0m\n\u001b[0m\u001b[1;32m      3\u001b[0m \u001b[0my_predicted\u001b[0m \u001b[0;34m=\u001b[0m \u001b[0mmeta_log_reg\u001b[0m\u001b[0;34m.\u001b[0m\u001b[0mpredict\u001b[0m\u001b[0;34m(\u001b[0m\u001b[0mX_meta\u001b[0m\u001b[0;34m)\u001b[0m\u001b[0;34m\u001b[0m\u001b[0m\n\u001b[1;32m      4\u001b[0m \u001b[0;32mprint\u001b[0m \u001b[0maccuracy_score\u001b[0m\u001b[0;34m(\u001b[0m\u001b[0my\u001b[0m\u001b[0;34m,\u001b[0m \u001b[0my_predicted\u001b[0m\u001b[0;34m)\u001b[0m\u001b[0;34m\u001b[0m\u001b[0m\n",
      "\u001b[0;31mNameError\u001b[0m: name 'X_meta' is not defined"
     ]
    }
   ],
   "source": [
    "meta_log_reg = LogisticRegression()\n",
    "meta_log_reg.fit(X_meta, y)\n",
    "y_predicted = meta_log_reg.predict(X_meta)\n",
    "print accuracy_score(y, y_predicted)"
   ]
  },
  {
   "cell_type": "code",
   "execution_count": null,
   "metadata": {
    "collapsed": true
   },
   "outputs": [],
   "source": []
  }
 ],
 "metadata": {
  "kernelspec": {
   "display_name": "Python 2",
   "language": "python",
   "name": "python2"
  },
  "language_info": {
   "codemirror_mode": {
    "name": "ipython",
    "version": 2
   },
   "file_extension": ".py",
   "mimetype": "text/x-python",
   "name": "python",
   "nbconvert_exporter": "python",
   "pygments_lexer": "ipython2",
   "version": "2.7.10"
  }
 },
 "nbformat": 4,
 "nbformat_minor": 0
}
